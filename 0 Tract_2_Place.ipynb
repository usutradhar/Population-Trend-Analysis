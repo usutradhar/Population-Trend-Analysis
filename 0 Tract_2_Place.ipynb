{
 "cells": [
  {
   "cell_type": "code",
   "execution_count": 22,
   "id": "876d8cd1-6d80-4083-b779-9cc9396d8a14",
   "metadata": {},
   "outputs": [],
   "source": [
    "#!pip install packagename\n",
    "# importing modules\n",
    "import geopandas as gpd\n",
    "import pandas as pd\n",
    "import numpy as np\n",
    "import plotly.graph_objects as go\n",
    "import matplotlib\n",
    "import matplotlib.pyplot as plt\n",
    "import os\n",
    "from os import chdir as cd\n",
    "import time\n",
    "import fiona"
   ]
  },
  {
   "cell_type": "code",
   "execution_count": 23,
   "id": "1459fc9b-382d-45f8-8bec-5f5e3515fd63",
   "metadata": {},
   "outputs": [],
   "source": [
    "US_places =  gpd.read_file(r'D:\\Work\\Box Sync\\Trends_all states\\Maps_2020\\compiled.shp')\n",
    "US_places = US_places.to_crs('EPSG:9311')\n",
    "\n",
    "# dropping columns that will not be used in the anaysis\n",
    "places_US = US_places.drop(['PLACEFP', 'PLACENS', 'NAME', 'LSAD', 'CLASSFP',\n",
    "                            'PCICBSA', 'PCINECTA', 'MTFCC', 'FUNCSTAT', \n",
    "                            'AWATER', 'INTPTLAT', 'INTPTLON', ], axis =1)"
   ]
  },
  {
   "cell_type": "code",
   "execution_count": 24,
   "id": "5aa41de5-adf4-4e6d-87b5-7f7858baf82f",
   "metadata": {},
   "outputs": [
    {
     "data": {
      "text/plain": [
       "array(['C1', 'U1', 'U2', 'M2', 'C8', 'C5', 'C9', 'C6', 'C2', 'C7'],\n",
       "      dtype=object)"
      ]
     },
     "execution_count": 24,
     "metadata": {},
     "output_type": "execute_result"
    }
   ],
   "source": [
    "US_places['CLASSFP'].unique()"
   ]
  },
  {
   "cell_type": "code",
   "execution_count": 25,
   "id": "27260d55-6a8d-4d4d-bc91-99db1172013a",
   "metadata": {},
   "outputs": [],
   "source": [
    "# import shapefiles and merge by GEOID\n",
    "# ========================================\n",
    "# RUN ONCE TO CRETAE THE COMPILED FILE\n",
    "# from pathlib import Path\n",
    "# # define the file location\n",
    "# folder = Path(r\"D:\\Work\\Box Sync\\Trends_all states\\Census Tract HUs\\\\\")\n",
    "# # reading the zip file\n",
    "# shapefiles = folder.glob(r\"Shapefiles\\tl_2020_*_tract.zip\")\n",
    "# gdf_CTs = pd.concat([gpd.read_file(shp) for shp in shapefiles]).pipe(gpd.GeoDataFrame)\n",
    "# gdf_CTs = gdf_CTs.set_crs(\"EPSG:4269\")\n",
    "# gdf_CTs.to_file(folder / 'compiled_CTs.shp')\n",
    "\n",
    "US_CTs = gpd.read_file(r'D:\\Work\\Box Sync\\Trends_all states\\Census Tract HUs\\compiled_CTs.shp')\n",
    "US_CTs.head()\n",
    "US_CTs = US_CTs.to_crs('EPSG:9311')"
   ]
  },
  {
   "cell_type": "code",
   "execution_count": 26,
   "id": "219d4538-f9a3-4e7f-b1db-50296c64b644",
   "metadata": {},
   "outputs": [
    {
     "data": {
      "text/plain": [
       "(85528, 13)"
      ]
     },
     "execution_count": 26,
     "metadata": {},
     "output_type": "execute_result"
    }
   ],
   "source": [
    "US_CTs.shape"
   ]
  },
  {
   "cell_type": "code",
   "execution_count": 5,
   "id": "164260b3-ef46-49d9-9c93-3c17c0c1d9fe",
   "metadata": {},
   "outputs": [],
   "source": [
    "df_HousingUnits = pd.read_csv(r'D:\\Work\\Box Sync\\Trends_all states\\Census Tract HUs\\ACSDT5Y2020.B25001-Data.csv')\n",
    "df_HousingUnits.head()\n",
    "df_HousingUnits.columns\n",
    "# extracting only necessary columns\n",
    "df_HUs = df_HousingUnits.iloc[1:,:3].reset_index()"
   ]
  },
  {
   "cell_type": "code",
   "execution_count": 6,
   "id": "94bcfbe6-06e2-464d-ae8c-d1fc25685392",
   "metadata": {},
   "outputs": [
    {
     "data": {
      "text/plain": [
       "((85528, 13), (85395, 4))"
      ]
     },
     "execution_count": 6,
     "metadata": {},
     "output_type": "execute_result"
    }
   ],
   "source": [
    "# checking size of the census tract geographic data and the household units at census tract level from ACS \n",
    "US_CTs.shape, df_HUs.shape"
   ]
  },
  {
   "cell_type": "code",
   "execution_count": 7,
   "id": "34d94f1b-2f08-47b7-9884-cf06577d9113",
   "metadata": {},
   "outputs": [],
   "source": [
    "df_HUs['GEOID'] = df_HUs['GEO_ID'].str[9:]"
   ]
  },
  {
   "cell_type": "code",
   "execution_count": 8,
   "id": "7d355f52-7b2a-4429-8bde-4f7e8861c86a",
   "metadata": {},
   "outputs": [],
   "source": [
    "# merging Census tract housing unit data with geography \n",
    "# outer keeps all values for both dataframes, indicator adds a columns _merge with indicator\n",
    "df_censusTracts = US_CTs.merge(df_HUs, how='outer', on  = 'GEOID',  indicator = True)\n",
    "\n",
    "# # unmatched rows\n",
    "# df_censusTracts[df_censusTracts['_merge'] == 'left_only']"
   ]
  },
  {
   "cell_type": "code",
   "execution_count": 9,
   "id": "8a52148a-3567-4f64-b03e-83d93392d12e",
   "metadata": {},
   "outputs": [
    {
     "data": {
      "text/plain": [
       "(133, 18)"
      ]
     },
     "execution_count": 9,
     "metadata": {},
     "output_type": "execute_result"
    }
   ],
   "source": [
    "df_censusTracts[df_censusTracts['_merge'] == 'left_only'].shape"
   ]
  },
  {
   "cell_type": "code",
   "execution_count": 10,
   "id": "9505ed09-f2c8-42df-9363-ebff75783b65",
   "metadata": {},
   "outputs": [
    {
     "data": {
      "text/plain": [
       "array(['60', '66', '69', '78'], dtype=object)"
      ]
     },
     "execution_count": 10,
     "metadata": {},
     "output_type": "execute_result"
    }
   ],
   "source": [
    "# unmatched values are out of mainland USA\n",
    "df_censusTracts[df_censusTracts['_merge'] == 'left_only']['STATEFP'].unique()"
   ]
  },
  {
   "cell_type": "code",
   "execution_count": 11,
   "id": "8954ae7f-9a3f-48c4-8737-48379406c52f",
   "metadata": {},
   "outputs": [],
   "source": [
    "# converting census tract area to sqmile, TigerLine shapefile unit is square meter\n",
    "df_censusTracts['CT_area_sqmi'] = df_censusTracts['ALAND'] * 0.386102/ 1000000\n",
    "# changing total housing unit column to float from str\n",
    "df_censusTracts['B25001_001E'] = df_censusTracts['B25001_001E'].astype(float)\n",
    "# changing column name for better understanding\n",
    "df_censusTracts.rename(columns = {'B25001_001E':'HousingUnits'}, inplace = True)\n",
    "# Housing density in each census tract as HUs/square miles\n",
    "# keeping the values in sqmile to compare with this report\n",
    "# report link: https://bjs.ojp.gov/library/publications/classification-urban-suburban-and-rural-areas-national-crime-victimization\n",
    "df_censusTracts['HU_density'] = df_censusTracts['HousingUnits'] / df_censusTracts['CT_area_sqmi']\n",
    "\n",
    "# dropping columns that will not be used in the anaysis\n",
    "df_censusTracts = df_censusTracts.drop(['COUNTYFP', 'TRACTCE', 'NAME_x', 'NAMELSAD', 'MTFCC', \n",
    "                                        'FUNCSTAT', 'AWATER', 'INTPTLAT', 'INTPTLON',\n",
    "                                        'index', 'GEO_ID', '_merge'], axis = 1)"
   ]
  },
  {
   "cell_type": "code",
   "execution_count": 12,
   "id": "5c9b08bc-cd45-44dd-987d-2c1573185385",
   "metadata": {},
   "outputs": [],
   "source": [
    "state_ids = df_censusTracts['STATEFP'].sort_values().unique()"
   ]
  },
  {
   "cell_type": "code",
   "execution_count": 13,
   "id": "42465ae5-c6e0-4137-84d0-7f8a4ba13805",
   "metadata": {},
   "outputs": [],
   "source": [
    "# places_US['STATEFP'].nunique(), df_censusTracts['STATEFP'].nunique()"
   ]
  },
  {
   "cell_type": "code",
   "execution_count": 14,
   "id": "131a26df-ee33-49a7-93b5-0091be2e1d63",
   "metadata": {},
   "outputs": [],
   "source": [
    "df_overlayed = pd.DataFrame()\n",
    "for id_value in state_ids:\n",
    "    df_housingunits = df_censusTracts[df_censusTracts['STATEFP'] == id_value]\n",
    "    df_places = places_US[places_US['STATEFP'] == id_value]\n",
    "    tract_place_overlayed = gpd.overlay(df_housingunits, df_places, how='intersection', keep_geom_type=False)\n",
    "    \n",
    "    df_overlayed = pd.concat([df_overlayed, tract_place_overlayed], axis=0, ignore_index=True)"
   ]
  },
  {
   "cell_type": "code",
   "execution_count": 15,
   "id": "d379e53e-d75b-42d6-ab14-338cd9aee8bf",
   "metadata": {},
   "outputs": [],
   "source": [
    "# what percent of census tract area is in that place\n",
    "# calculating percent area of census tract that intersected with places and rounding to 2 decimal places\n",
    "df_overlayed['intersect_area'] = df_overlayed.area\n",
    "df_overlayed['area%'] = (df_overlayed['intersect_area'] / df_overlayed['ALAND_1']).round(2)\n",
    "# replacing inf values with zero\n",
    "df_overlayed['area%'].replace([np.inf, -np.inf], 0, inplace=True) \n",
    "# setting %area above 1 to 1 since more than 100% area cannot be in a place\n",
    "df_overlayed['area%'] = df_overlayed['area%'].apply(lambda x: x if x <= 1 else 1)\n",
    "# calculating no of housing units in the intersected area\n",
    "df_overlayed['HU_inArea'] = df_overlayed['HousingUnits'] * df_overlayed['area%']\n",
    "# housing units in the area weighted by housing units\n",
    "df_overlayed['HU_weighted_sum'] = df_overlayed['HU_inArea'] * df_overlayed['HU_density'] "
   ]
  },
  {
   "cell_type": "code",
   "execution_count": 16,
   "id": "9f169802-7692-4339-8b8e-d59b1a478f6a",
   "metadata": {},
   "outputs": [],
   "source": [
    "# df_overlayed.columns"
   ]
  },
  {
   "cell_type": "code",
   "execution_count": 17,
   "id": "8fa850ee-bbe4-404d-aa81-e45d375ac9df",
   "metadata": {},
   "outputs": [
    {
     "data": {
      "text/plain": [
       "0"
      ]
     },
     "execution_count": 17,
     "metadata": {},
     "output_type": "execute_result"
    }
   ],
   "source": [
    "df_weighted_density = df_overlayed.groupby(['GEOID_2']).agg({'NAMELSAD': 'first',\n",
    "                                                             'ALAND_2' : 'first',\n",
    "                                                             'intersect_area': 'sum',\n",
    "                                                             'HU_density': 'sum',\n",
    "                                                             'HU_inArea':'sum',\n",
    "                                                             'HU_weighted_sum':'sum',}).reset_index()\n",
    "df_weighted_density['HU_weighted_sum'].isna().sum()"
   ]
  },
  {
   "cell_type": "code",
   "execution_count": 18,
   "id": "96a9a67e-e2e7-4b62-ac31-dbf6b567384d",
   "metadata": {},
   "outputs": [],
   "source": [
    "# df_weighted_density[df_weighted_density['HU_weighted_sum'] == 0]"
   ]
  },
  {
   "cell_type": "code",
   "execution_count": 19,
   "id": "eb65d176-1a7d-413a-91b7-2484b600f82c",
   "metadata": {},
   "outputs": [],
   "source": [
    "# taking weighted average for each place after applying groupby\n",
    "df_weighted_density['weighted_HU_density'] = df_weighted_density['HU_weighted_sum']/ df_weighted_density['HU_inArea']\n",
    "# replacing NaN values\n",
    "df_weighted_density['weighted_HU_density'] = df_weighted_density['weighted_HU_density'].replace(np.nan, -99)"
   ]
  },
  {
   "cell_type": "code",
   "execution_count": 20,
   "id": "4fb484fa-dc71-44fe-ad42-a9cb9f11367b",
   "metadata": {},
   "outputs": [],
   "source": [
    "df_weighted_density.to_csv('D:\\Work\\Box Sync\\Trends_all states\\Output from Analysis\\weighted_housingUnits_for_places.csv')"
   ]
  },
  {
   "cell_type": "code",
   "execution_count": 21,
   "id": "88a6d275-12e8-472d-86a2-ca29092fe785",
   "metadata": {},
   "outputs": [],
   "source": [
    "# df_weighted_density.sort_values('weighted_HU_density').tail(30)"
   ]
  },
  {
   "cell_type": "code",
   "execution_count": null,
   "id": "8a4f5c2f-026b-446c-af51-33a6218c6e41",
   "metadata": {},
   "outputs": [],
   "source": []
  },
  {
   "cell_type": "code",
   "execution_count": null,
   "id": "384d8575-cf77-4783-9b4f-cd4b861b01d8",
   "metadata": {},
   "outputs": [],
   "source": []
  }
 ],
 "metadata": {
  "kernelspec": {
   "display_name": "Python 3 (ipykernel)",
   "language": "python",
   "name": "python3"
  },
  "language_info": {
   "codemirror_mode": {
    "name": "ipython",
    "version": 3
   },
   "file_extension": ".py",
   "mimetype": "text/x-python",
   "name": "python",
   "nbconvert_exporter": "python",
   "pygments_lexer": "ipython3",
   "version": "3.9.13"
  }
 },
 "nbformat": 4,
 "nbformat_minor": 5
}
