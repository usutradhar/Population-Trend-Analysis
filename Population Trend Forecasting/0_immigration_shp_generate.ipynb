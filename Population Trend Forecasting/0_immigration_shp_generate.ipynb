{
 "cells": [
  {
   "cell_type": "markdown",
   "id": "1c55a0c2-7498-4416-a093-2053095352d2",
   "metadata": {},
   "source": [
    "# Calculating center to center distance"
   ]
  },
  {
   "cell_type": "code",
   "execution_count": 1,
   "id": "88214729-384c-49c9-ab40-d32997ddc1d6",
   "metadata": {},
   "outputs": [
    {
     "name": "stderr",
     "output_type": "stream",
     "text": [
      "C:\\Users\\uttar\\AppData\\Local\\Temp\\ipykernel_19056\\2049237555.py:3: UserWarning: Shapely 2.0 is installed, but because PyGEOS is also installed, GeoPandas will still use PyGEOS by default for now. To force to use and test Shapely 2.0, you have to set the environment variable USE_PYGEOS=0. You can do this before starting the Python process, or in your code before importing geopandas:\n",
      "\n",
      "import os\n",
      "os.environ['USE_PYGEOS'] = '0'\n",
      "import geopandas\n",
      "\n",
      "In a future release, GeoPandas will switch to using Shapely by default. If you are using PyGEOS directly (calling PyGEOS functions on geometries from GeoPandas), this will then stop working and you are encouraged to migrate from PyGEOS to Shapely 2.0 (https://shapely.readthedocs.io/en/latest/migration_pygeos.html).\n",
      "  import geopandas as gpd\n"
     ]
    }
   ],
   "source": [
    "#!pip install packagename\n",
    "# importing modules\n",
    "import geopandas as gpd\n",
    "import pandas as pd\n",
    "import numpy as np\n",
    "import plotly.graph_objects as go\n",
    "import matplotlib\n",
    "import matplotlib.pyplot as plt\n",
    "import os\n",
    "from os import chdir as cd\n",
    "import time\n",
    "import fiona\n",
    "# to calculate haversine distance \n",
    "# Haversine Distance can be defined as the angular distance between two locations on the Earth’s surface.\n",
    "# !pip install haversine\n",
    "# from haversine import haversine_vector, Unit\n"
   ]
  },
  {
   "cell_type": "code",
   "execution_count": 4,
   "id": "1795656c-b7c3-4e5f-8997-2ec0ef3085ba",
   "metadata": {},
   "outputs": [],
   "source": [
    "# reading municipality data\n",
    "# =========================================================\n",
    "# loading the metopolitan statstistical areas from US Census\n",
    "msa_2021 = gpd.read_file(r'D:\\Work\\Box Sync\\Trends_all states\\Maps_2020\\tl_2021_us_cbsa.zip')\n",
    "# Extracting MSAs in IL\n",
    "# msa_IL = msa_2021[msa_2021['NAME'].str.contains('IL')]\n",
    "msa_Metro = msa_2021[msa_2021['LSAD'] == 'M1'] \n",
    "msa_Metro.shape\n",
    "# converting the coordinate system\n",
    "msa_Metro = msa_Metro.to_crs(US_places.crs)"
   ]
  },
  {
   "cell_type": "code",
   "execution_count": 5,
   "id": "88b043ca-d90d-4e70-844d-4fdcdfb95d55",
   "metadata": {},
   "outputs": [
    {
     "data": {
      "text/plain": [
       "Index(['CSAFP', 'CBSAFP', 'GEOID', 'NAME', 'NAMELSAD', 'LSAD', 'MEMI', 'MTFCC',\n",
       "       'ALAND', 'AWATER', 'INTPTLAT', 'INTPTLON', 'geometry'],\n",
       "      dtype='object')"
      ]
     },
     "execution_count": 5,
     "metadata": {},
     "output_type": "execute_result"
    }
   ],
   "source": [
    "msa_2021.columns"
   ]
  },
  {
   "cell_type": "code",
   "execution_count": 6,
   "id": "568cd929-18b0-465b-bb64-5b8d3281f087",
   "metadata": {},
   "outputs": [],
   "source": [
    "# Cartographic boundary\n",
    "msa_2020_cb = gpd.read_file(r'D:\\Work\\Box Sync\\Trends_all states\\Maps_2020\\cb_2020_us_cbsa_5m.zip')\n",
    "# msa_2020_cb.sort_values(by='NAME')"
   ]
  },
  {
   "cell_type": "code",
   "execution_count": 7,
   "id": "232ec0b5-4223-49d4-98ac-dd849af4f258",
   "metadata": {},
   "outputs": [
    {
     "data": {
      "text/plain": [
       "Index(['CSAFP', 'CBSAFP', 'AFFGEOID', 'GEOID', 'NAME', 'NAMELSAD', 'LSAD',\n",
       "       'ALAND', 'AWATER', 'geometry'],\n",
       "      dtype='object')"
      ]
     },
     "execution_count": 7,
     "metadata": {},
     "output_type": "execute_result"
    }
   ],
   "source": [
    "msa_2020_cb.columns"
   ]
  },
  {
   "cell_type": "code",
   "execution_count": 8,
   "id": "d98bc379-0ef9-4d6f-b20c-c92b13b86bb4",
   "metadata": {},
   "outputs": [],
   "source": [
    "msa_2020 = msa_2020_cb.merge(msa_2021[[ 'NAME', 'MEMI', 'MTFCC','INTPTLAT', 'INTPTLON']], on = 'NAME', )"
   ]
  },
  {
   "cell_type": "code",
   "execution_count": 9,
   "id": "f5608700-a768-48b2-92d0-562dff0938ae",
   "metadata": {},
   "outputs": [],
   "source": [
    "# msa_2021.sort_values(by='NAME')"
   ]
  },
  {
   "cell_type": "code",
   "execution_count": 10,
   "id": "e67106a8-fdc7-46de-9dc3-c7d29f7a2009",
   "metadata": {},
   "outputs": [],
   "source": [
    "# Immigration data from migration policy institue\n",
    "immigration_data = pd.read_csv(r'D:\\Work\\Box Sync\\Trends_all states\\Immigration data MPI\\MPI_Immigration_data_2017_2021.csv')"
   ]
  },
  {
   "cell_type": "code",
   "execution_count": 11,
   "id": "0f4617a9-0e40-43e6-aedc-71082467ac2f",
   "metadata": {},
   "outputs": [],
   "source": [
    "# msa_immigration = msa_2021.merge(immigration_data, left_on = 'NAME', right_on = 'Metro')\n",
    "msa_immigration = msa_2020.merge(immigration_data, left_on = 'NAME', right_on = 'Metro')\n",
    "# msa_immigration"
   ]
  },
  {
   "cell_type": "code",
   "execution_count": 12,
   "id": "0bae4498-cfd8-455f-8cc1-3ecc7f128abe",
   "metadata": {},
   "outputs": [],
   "source": [
    "msa_immigration['Imm% tot pop'] = msa_immigration['Imm% tot pop'].str.rstrip('%').astype('float')\n",
    "msa_immigration['Metro N Imm'] = [float(str(i).replace(\",\", \"\")) for i in msa_immigration['Metro N Imm']]\n",
    "msa_immigration['Round immigrants'] = [float(str(i).replace(\",\", \"\")) for i in msa_immigration['Round immigrants']]\n",
    "msa_immigration['Round total MSA population'] = [float(str(i).replace(\",\", \"\")) for i in msa_immigration['Round total MSA population']]\n",
    "msa_immigration['Total Imm Pop_R'] = [float(str(i).replace(\",\", \"\")) for i in msa_immigration['Total Imm Pop_R']]"
   ]
  },
  {
   "cell_type": "code",
   "execution_count": 13,
   "id": "2e6f0d07-3be6-4ebc-9492-04e11818c857",
   "metadata": {},
   "outputs": [
    {
     "data": {
      "text/plain": [
       "(5883000.0, 2000.0, 77107.01754385965)"
      ]
     },
     "execution_count": 13,
     "metadata": {},
     "output_type": "execute_result"
    }
   ],
   "source": [
    "msa_immigration['Round immigrants'].max(), msa_immigration['Round immigrants'].min(), msa_immigration['Round immigrants'].mean()"
   ]
  },
  {
   "cell_type": "code",
   "execution_count": 14,
   "id": "f7927463-978a-4a90-af45-a0b43d59441e",
   "metadata": {},
   "outputs": [
    {
     "data": {
      "text/plain": [
       "Index(['CSAFP', 'CBSAFP', 'AFFGEOID', 'GEOID', 'NAME', 'NAMELSAD', 'LSAD',\n",
       "       'ALAND', 'AWATER', 'geometry', 'MEMI', 'MTFCC', 'INTPTLAT', 'INTPTLON'],\n",
       "      dtype='object')"
      ]
     },
     "execution_count": 14,
     "metadata": {},
     "output_type": "execute_result"
    }
   ],
   "source": [
    "msa_2020.columns"
   ]
  },
  {
   "cell_type": "code",
   "execution_count": 15,
   "id": "be6fd472-3d5c-4dbb-9bc2-6db56114238e",
   "metadata": {},
   "outputs": [],
   "source": [
    "msa_immigration.rename(columns={'Imm% tot pop': '%ImmPop',\n",
    "                                'Metro N Imm': 'noImm',\n",
    "                                'Round total MSA population': 'msa_total',}, inplace=True)\n",
    "\n",
    "msa_immigration[['CSAFP', 'CBSAFP', 'GEOID', 'Metro', 'NAMELSAD', 'LSAD', 'MEMI', 'MTFCC',\n",
    "       'ALAND', 'AWATER', 'INTPTLAT', 'INTPTLON', 'geometry',\n",
    "       '%ImmPop', 'noImm', 'msa_total']].to_file(r'D:\\Work\\Box Sync\\Trends_all states\\Output from Analysis\\immigration_data.shp')"
   ]
  },
  {
   "cell_type": "code",
   "execution_count": 18,
   "id": "ceb39a38-a0ad-4b85-982b-0d4faeee971e",
   "metadata": {},
   "outputs": [
    {
     "data": {
      "text/plain": [
       "<AxesSubplot:>"
      ]
     },
     "execution_count": 18,
     "metadata": {},
     "output_type": "execute_result"
    },
    {
     "data": {
      "image/png": "[encoded data removed]",
      "text/plain": [
       "<Figure size 432x288 with 2 Axes>"
      ]
     },
     "metadata": {
      "needs_background": "light"
     },
     "output_type": "display_data"
    }
   ],
   "source": [
    "msa_immigration.to_crs('EPSG:5070').plot(column = '%ImmPop', legend = True)"
   ]
  },
  {
   "cell_type": "code",
   "execution_count": null,
   "id": "5ccad655-7686-466b-abfc-966850bc267a",
   "metadata": {},
   "outputs": [],
   "source": []
  }
 ],
 "metadata": {
  "kernelspec": {
   "display_name": "Python 3 (ipykernel)",
   "language": "python",
   "name": "python3"
  },
  "language_info": {
   "codemirror_mode": {
    "name": "ipython",
    "version": 3
   },
   "file_extension": ".py",
   "mimetype": "text/x-python",
   "name": "python",
   "nbconvert_exporter": "python",
   "pygments_lexer": "ipython3",
   "version": "3.11.3"
  }
 },
 "nbformat": 4,
 "nbformat_minor": 5
}
