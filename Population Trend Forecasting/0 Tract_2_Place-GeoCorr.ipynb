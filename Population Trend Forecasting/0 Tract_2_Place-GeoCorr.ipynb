{
 "cells": [
  {
   "cell_type": "code",
   "execution_count": 1,
   "id": "876d8cd1-6d80-4083-b779-9cc9396d8a14",
   "metadata": {},
   "outputs": [
    {
     "name": "stderr",
     "output_type": "stream",
     "text": [
      "C:\\Users\\uttar\\anaconda3\\envs\\geopandasenv\\lib\\site-packages\\geopandas\\_compat.py:111: UserWarning: The Shapely GEOS version (3.10.2-CAPI-1.16.0) is incompatible with the GEOS version PyGEOS was compiled with (3.10.3-CAPI-1.16.1). Conversions between both will be slow.\n",
      "  warnings.warn(\n"
     ]
    }
   ],
   "source": [
    "#!pip install packagename\n",
    "# importing modules\n",
    "import geopandas as gpd\n",
    "import pandas as pd\n",
    "import numpy as np\n",
    "import plotly.graph_objects as go\n",
    "import matplotlib\n",
    "import matplotlib.pyplot as plt\n",
    "import os\n",
    "from os import chdir as cd\n",
    "import time\n",
    "import fiona"
   ]
  },
  {
   "cell_type": "code",
   "execution_count": 2,
   "id": "27260d55-6a8d-4d4d-bc91-99db1172013a",
   "metadata": {},
   "outputs": [],
   "source": [
    "# # RUN ONCE TO CRETAE THE COMPILED FILE\n",
    "# # import shapefiles and merge by GEOID\n",
    "# # we do it once and then import the compiled file for analysis since compiling it everytime takes longer to run\n",
    "# # ========================================\n",
    "\n",
    "# from pathlib import Path\n",
    "# # define the file location\n",
    "# folder = Path(r\"D:\\Work\\Box Sync\\Trends_all states\\Census Tract HUs\\\\\")\n",
    "# # reading the zip file\n",
    "# shapefiles = folder.glob(r\"Shapefiles\\tl_2020_*_tract.zip\")\n",
    "# gdf_CTs = pd.concat([gpd.read_file(shp) for shp in shapefiles]).pipe(gpd.GeoDataFrame)\n",
    "# gdf_CTs = gdf_CTs.set_crs(\"EPSG:4269\")\n",
    "# gdf_CTs.to_file(folder / 'compiled_CTs.shp')"
   ]
  },
  {
   "cell_type": "code",
   "execution_count": null,
   "id": "c241e259-e686-4bb7-9220-2bad8795a303",
   "metadata": {},
   "outputs": [],
   "source": [
    "US_CTs = gpd.read_file(r'D:\\Work\\Box Sync\\Trends_all states\\Census Tract HUs\\compiled_CTs.shp')\n",
    "US_CTs.head()\n",
    "US_CTs = US_CTs.to_crs('EPSG:9311')\n",
    "# converting census tract area to square mile, TigerLine shapefile unit is square meter\n",
    "US_CTs['CT_area_sqmi'] = US_CTs['ALAND'] * 0.386102/ 1000000\n",
    "census_tracts = US_CTs[['STATEFP', 'COUNTYFP', 'TRACTCE', 'GEOID', 'NAME', 'NAMELSAD', 'CT_area_sqmi',]]\n",
    "\n",
    "# Housing density data from ACS 2020\n",
    "# downloaded from https://data.census.gov/advanced--files can be found searching by Table no, i.e. B25001\n",
    "df_HousingUnits = pd.read_csv(r'D:\\Work\\Box Sync\\Trends_all states\\Census Tract HUs\\ACSDT5Y2020.B25001-Data.csv')\n",
    "# extracting only necessary columns\n",
    "df_HUs = df_HousingUnits.iloc[1:,:3].reset_index()\n",
    "df_HUs['GEOID'] = df_HUs['GEO_ID'].str[9:]\n",
    "# changing total housing unit column to float from str\n",
    "df_HUs['B25001_001E'] = df_HUs['B25001_001E'].astype(float)\n",
    "# changing column name for better understanding\n",
    "df_HUs.rename(columns = {'B25001_001E':'HousingUnits'}, inplace = True)\n",
    "housing_units = df_HUs[['HousingUnits', 'GEOID',]]"
   ]
  },
  {
   "cell_type": "code",
   "execution_count": 3,
   "id": "356fb419-1346-4879-b613-11e495be01a5",
   "metadata": {},
   "outputs": [],
   "source": [
    "# TRACT TO PLACE CONVERSION FILES FROM GEOCORR2022 population weighted using 2020 ACS data\n",
    "# df_tract_2_place_aw = pd.read_csv(r'D:\\Work\\Box Sync\\Trends_all states\\Census Tract HUs\\Tract_2_Place_areaweighted.csv', header=1, encoding='latin-1')\n",
    "# df_tract_2_place_pw = pd.read_csv(r'D:\\Work\\Box Sync\\Trends_all states\\Census Tract HUs\\Tract_2_Place_populationweighted.csv', header=1, encoding='latin-1')\n",
    "df_tract_2_place_huw = pd.read_csv(r'D:\\Work\\Box Sync\\Trends_all states\\Census Tract HUs\\Tract_2_Place_HUweighted.csv', header=1, encoding='latin-1')\n",
    "# Here, we are using housing unit weighted CT to place conversion file\n",
    "df_tract_2_place = df_tract_2_place_huw\n",
    "# df_tract_2_place.columns"
   ]
  },
  {
   "cell_type": "code",
   "execution_count": 4,
   "id": "f425c672-49d0-4fae-bf05-01dba36a706c",
   "metadata": {},
   "outputs": [],
   "source": [
    "# RENAMING AND FORMATING VARIABLES\n",
    "# Creating matching GEOID from id values\n",
    "df_tract_2_place['State code'] = df_tract_2_place['State code'].astype(str).str.rjust(2,'0')\n",
    "df_tract_2_place['County code'] = df_tract_2_place['County code'].astype(str).str.rjust(5,'0')\n",
    "df_tract_2_place['Place code'] = df_tract_2_place['Place code'].astype(str).str.rjust(5,'0')\n",
    "df_tract_2_place['GEOID_place'] = df_tract_2_place[['State code','Place code']].astype(str).agg(''.join, axis=1)\n",
    "\n",
    "df_tract_2_place[['Tract_a', 'Tract_b']] = df_tract_2_place['Tract'].astype(str).str.split('.',expand=True)\n",
    "df_tract_2_place['Tract_a'] = df_tract_2_place['Tract_a'].str.rjust(4,'0')\n",
    "df_tract_2_place['Tract_b'] = df_tract_2_place['Tract_b'].str.ljust(2,'0')\n",
    "df_tract_2_place['GEOID'] = df_tract_2_place[['County code','Tract_a', 'Tract_b']].astype(str).agg(''.join, axis=1)\n",
    "\n",
    "tract_2_place = df_tract_2_place[['GEOID_place', 'Place code', 'Place name', \n",
    "                                  'Total housing units (2020 Census)',\n",
    "                                  'tract-to-place allocation factor', 'GEOID']]\n"
   ]
  },
  {
   "cell_type": "code",
   "execution_count": 5,
   "id": "164260b3-ef46-49d9-9c93-3c17c0c1d9fe",
   "metadata": {},
   "outputs": [
    {
     "data": {
      "text/plain": [
       "((85528, 7), (85395, 2), (143340, 6))"
      ]
     },
     "execution_count": 5,
     "metadata": {},
     "output_type": "execute_result"
    }
   ],
   "source": [
    "census_tracts.shape, housing_units.shape, tract_2_place.shape"
   ]
  },
  {
   "cell_type": "code",
   "execution_count": 6,
   "id": "d4bbe827-6707-4235-93aa-69d0d023622d",
   "metadata": {},
   "outputs": [],
   "source": [
    "# Get the Land area (ALAND from census)\n",
    "# Get the number of Housing units for census tracts \n",
    "# merging Census tract housing unit data with geography \n",
    "# outer keeps all values for both dataframes, indicator adds a columns _merge with indicator\n",
    "df_CTs = tract_2_place.merge(housing_units, how='outer', on  = 'GEOID',  indicator = True)\n",
    "\n",
    "df_HU_density = census_tracts.merge(housing_units, how='outer', on  = 'GEOID',  indicator = True)\n",
    "# Housing density in each census tract as HUs/square miles\n",
    "# keeping the values in sqmile to compare with this report\n",
    "# report link: https://bjs.ojp.gov/library/publications/classification-urban-suburban-and-rural-areas-national-crime-victimization\n",
    "df_HU_density['HU_density'] = df_HU_density['HousingUnits'] / df_HU_density['CT_area_sqmi']\n",
    "# # unmatched rows\n",
    "# df_censusTracts[df_censusTracts['_merge'] == 'left_only']"
   ]
  },
  {
   "cell_type": "code",
   "execution_count": 7,
   "id": "74f3248a-d184-4df3-a998-65802338ef30",
   "metadata": {},
   "outputs": [
    {
     "data": {
      "text/plain": [
       "(31882, (143340, 12))"
      ]
     },
     "execution_count": 7,
     "metadata": {},
     "output_type": "execute_result"
    }
   ],
   "source": [
    "df_HU_density_merged = df_CTs.merge(df_HU_density[[ 'GEOID', 'CT_area_sqmi', 'HU_density']], on  = 'GEOID',)\n",
    "df = df_HU_density_merged[df_HU_density_merged['_merge'] == 'both'].copy()\n",
    "\n",
    "df['densityxHU'] = df['Total housing units (2020 Census)'] * df['HU_density']\n",
    "# df['HUs'] = df['tract-to-place allocation factor'] * df['HousingUnits'] # just a check\n",
    "df['GEOID_place'].nunique(), df.shape"
   ]
  },
  {
   "cell_type": "code",
   "execution_count": 8,
   "id": "808cbe59-5398-4e61-ad2e-a0058eb4c748",
   "metadata": {},
   "outputs": [
    {
     "data": {
      "text/html": [
       "<div>\n",
       "<style scoped>\n",
       "    .dataframe tbody tr th:only-of-type {\n",
       "        vertical-align: middle;\n",
       "    }\n",
       "\n",
       "    .dataframe tbody tr th {\n",
       "        vertical-align: top;\n",
       "    }\n",
       "\n",
       "    .dataframe thead th {\n",
       "        text-align: right;\n",
       "    }\n",
       "</style>\n",
       "<table border=\"1\" class=\"dataframe\">\n",
       "  <thead>\n",
       "    <tr style=\"text-align: right;\">\n",
       "      <th></th>\n",
       "      <th>GEOID_place</th>\n",
       "      <th>Place name</th>\n",
       "      <th>Total housing units (2020 Census)</th>\n",
       "      <th>densityxHU</th>\n",
       "      <th>HousingUnits</th>\n",
       "      <th>weighted_HU_density_sqmi</th>\n",
       "    </tr>\n",
       "  </thead>\n",
       "  <tbody>\n",
       "    <tr>\n",
       "      <th>19181</th>\n",
       "      <td>3671620</td>\n",
       "      <td>Stony Brook University CDP, NY</td>\n",
       "      <td>115.0</td>\n",
       "      <td>0.000000</td>\n",
       "      <td>0.0</td>\n",
       "      <td>0.000000</td>\n",
       "    </tr>\n",
       "    <tr>\n",
       "      <th>4668</th>\n",
       "      <td>1223005</td>\n",
       "      <td>Florida Gulf Coast University CDP, FL</td>\n",
       "      <td>308.0</td>\n",
       "      <td>0.000000</td>\n",
       "      <td>0.0</td>\n",
       "      <td>0.000000</td>\n",
       "    </tr>\n",
       "    <tr>\n",
       "      <th>856</th>\n",
       "      <td>0264380</td>\n",
       "      <td>Prudhoe Bay CDP, AK</td>\n",
       "      <td>1.0</td>\n",
       "      <td>0.000000</td>\n",
       "      <td>0.0</td>\n",
       "      <td>0.000000</td>\n",
       "    </tr>\n",
       "    <tr>\n",
       "      <th>24630</th>\n",
       "      <td>4271210</td>\n",
       "      <td>Slippery Rock University CDP, PA</td>\n",
       "      <td>436.0</td>\n",
       "      <td>0.000000</td>\n",
       "      <td>0.0</td>\n",
       "      <td>0.000000</td>\n",
       "    </tr>\n",
       "    <tr>\n",
       "      <th>23922</th>\n",
       "      <td>4240666</td>\n",
       "      <td>Kutztown University CDP, PA</td>\n",
       "      <td>8.0</td>\n",
       "      <td>0.000000</td>\n",
       "      <td>0.0</td>\n",
       "      <td>0.000000</td>\n",
       "    </tr>\n",
       "    <tr>\n",
       "      <th>737</th>\n",
       "      <td>0236990</td>\n",
       "      <td>Kaktovik city, AK</td>\n",
       "      <td>91.0</td>\n",
       "      <td>0.946646</td>\n",
       "      <td>890.0</td>\n",
       "      <td>0.010403</td>\n",
       "    </tr>\n",
       "    <tr>\n",
       "      <th>616</th>\n",
       "      <td>0204500</td>\n",
       "      <td>Atqasuk city, AK</td>\n",
       "      <td>79.0</td>\n",
       "      <td>0.821813</td>\n",
       "      <td>890.0</td>\n",
       "      <td>0.010403</td>\n",
       "    </tr>\n",
       "    <tr>\n",
       "      <th>823</th>\n",
       "      <td>0256320</td>\n",
       "      <td>Nuiqsut city, AK</td>\n",
       "      <td>157.0</td>\n",
       "      <td>1.633224</td>\n",
       "      <td>890.0</td>\n",
       "      <td>0.010403</td>\n",
       "    </tr>\n",
       "    <tr>\n",
       "      <th>844</th>\n",
       "      <td>0261700</td>\n",
       "      <td>Point Lay CDP, AK</td>\n",
       "      <td>90.0</td>\n",
       "      <td>0.936243</td>\n",
       "      <td>890.0</td>\n",
       "      <td>0.010403</td>\n",
       "    </tr>\n",
       "    <tr>\n",
       "      <th>843</th>\n",
       "      <td>0261630</td>\n",
       "      <td>Point Hope city, AK</td>\n",
       "      <td>255.0</td>\n",
       "      <td>2.652689</td>\n",
       "      <td>890.0</td>\n",
       "      <td>0.010403</td>\n",
       "    </tr>\n",
       "  </tbody>\n",
       "</table>\n",
       "</div>"
      ],
      "text/plain": [
       "      GEOID_place                             Place name  \\\n",
       "19181     3671620         Stony Brook University CDP, NY   \n",
       "4668      1223005  Florida Gulf Coast University CDP, FL   \n",
       "856       0264380                    Prudhoe Bay CDP, AK   \n",
       "24630     4271210       Slippery Rock University CDP, PA   \n",
       "23922     4240666            Kutztown University CDP, PA   \n",
       "737       0236990                      Kaktovik city, AK   \n",
       "616       0204500                       Atqasuk city, AK   \n",
       "823       0256320                       Nuiqsut city, AK   \n",
       "844       0261700                      Point Lay CDP, AK   \n",
       "843       0261630                    Point Hope city, AK   \n",
       "\n",
       "       Total housing units (2020 Census)  densityxHU  HousingUnits  \\\n",
       "19181                              115.0    0.000000           0.0   \n",
       "4668                               308.0    0.000000           0.0   \n",
       "856                                  1.0    0.000000           0.0   \n",
       "24630                              436.0    0.000000           0.0   \n",
       "23922                                8.0    0.000000           0.0   \n",
       "737                                 91.0    0.946646         890.0   \n",
       "616                                 79.0    0.821813         890.0   \n",
       "823                                157.0    1.633224         890.0   \n",
       "844                                 90.0    0.936243         890.0   \n",
       "843                                255.0    2.652689         890.0   \n",
       "\n",
       "       weighted_HU_density_sqmi  \n",
       "19181                  0.000000  \n",
       "4668                   0.000000  \n",
       "856                    0.000000  \n",
       "24630                  0.000000  \n",
       "23922                  0.000000  \n",
       "737                    0.010403  \n",
       "616                    0.010403  \n",
       "823                    0.010403  \n",
       "844                    0.010403  \n",
       "843                    0.010403  "
      ]
     },
     "execution_count": 8,
     "metadata": {},
     "output_type": "execute_result"
    }
   ],
   "source": [
    "df_weighted_density = df.groupby('GEOID_place').agg({'Place name':'first',\n",
    "                                      'Total housing units (2020 Census)': 'sum',\n",
    "                                      # 'HUs': 'sum', # this is calculated from ACS data using the conversion factors found from GeoCORR2022\n",
    "                                      'densityxHU': 'sum',\n",
    "                                      'HousingUnits':'sum'}).reset_index()\n",
    "\n",
    "df_weighted_density['weighted_HU_density_sqmi'] = df_weighted_density['densityxHU'] / df_weighted_density['Total housing units (2020 Census)']\n",
    "# df_weighted_density['weighted_HU_density'] = df_weighted_density['densityxHU'] / df_weighted_density['HUs']\n",
    "df_weighted_density.sort_values(['weighted_HU_density_sqmi']).head(10)"
   ]
  },
  {
   "cell_type": "code",
   "execution_count": 9,
   "id": "8ee0241a-694e-48bd-811a-febc69b6b923",
   "metadata": {},
   "outputs": [],
   "source": [
    "# df_weighted_density.isna().sum(), df.isna().sum(), "
   ]
  },
  {
   "cell_type": "code",
   "execution_count": 10,
   "id": "e1bfd65c-5e5f-484b-ad7a-7d96c7138356",
   "metadata": {},
   "outputs": [],
   "source": [
    "# Downloaded for further use in urban–suburban–periurban–rural classification\n",
    "df_weighted_density.to_csv('D:\\Work\\Box Sync\\Trends_all states\\Output from Analysis\\weighted_housingUnits_for_places.csv')"
   ]
  },
  {
   "cell_type": "code",
   "execution_count": null,
   "id": "50e03122-8dbd-421f-8e53-ad07709d6147",
   "metadata": {},
   "outputs": [],
   "source": []
  }
 ],
 "metadata": {
  "kernelspec": {
   "display_name": "Python 3 (ipykernel)",
   "language": "python",
   "name": "python3"
  },
  "language_info": {
   "codemirror_mode": {
    "name": "ipython",
    "version": 3
   },
   "file_extension": ".py",
   "mimetype": "text/x-python",
   "name": "python",
   "nbconvert_exporter": "python",
   "pygments_lexer": "ipython3",
   "version": "3.9.16"
  }
 },
 "nbformat": 4,
 "nbformat_minor": 5
}
