{
 "cells": [
  {
   "cell_type": "code",
   "execution_count": 43,
   "id": "010b47ca-c2ae-4e08-9d13-2b5fce678e8e",
   "metadata": {},
   "outputs": [],
   "source": [
    "#!pip install packagename\n",
    "# importing modules\n",
    "import geopandas as gpd\n",
    "import pandas as pd\n",
    "import numpy as np\n",
    "import plotly.graph_objects as go\n",
    "import matplotlib\n",
    "import matplotlib.pyplot as plt\n",
    "import os\n",
    "from os import chdir as cd\n",
    "import time\n",
    "import fiona"
   ]
  },
  {
   "cell_type": "code",
   "execution_count": 44,
   "id": "cd235588-0d9f-4d69-b20c-b15a639e2eee",
   "metadata": {},
   "outputs": [
    {
     "data": {
      "text/plain": [
       "((32188, 17), (3234, 18), (56, 15))"
      ]
     },
     "execution_count": 44,
     "metadata": {},
     "output_type": "execute_result"
    }
   ],
   "source": [
    "US_places = gpd.read_file(r'D:\\Work\\Box Sync\\Trends_all states\\Maps_2020\\compiled.shp')\n",
    "US_counties = gpd.read_file(r'D:\\Work\\Box Sync\\Trends_all states\\Maps_2020\\tl_2020_us_county.zip')\n",
    "US_states = gpd.read_file(r'D:\\Work\\Box Sync\\Trends_all states\\Maps_2020\\tl_2020_us_state.zip')\n",
    "\n",
    "# source: https://gis.stackexchange.com/questions/141580/which-projection-is-best-for-mapping-the-contiguous-united-states\n",
    "US_states = US_states.to_crs('EPSG:9311')\n",
    "US_places = US_places.to_crs('EPSG:9311')\n",
    "US_counties = US_counties.to_crs('EPSG:9311')\n",
    "\n",
    "US_places.shape, US_counties.shape, US_states.shape"
   ]
  },
  {
   "cell_type": "code",
   "execution_count": 45,
   "id": "3958a829-6f14-40f5-a249-abf3c174eb46",
   "metadata": {},
   "outputs": [
    {
     "data": {
      "text/plain": [
       "32188"
      ]
     },
     "execution_count": 45,
     "metadata": {},
     "output_type": "execute_result"
    }
   ],
   "source": [
    "US_places.groupby(['STATEFP'])['GEOID'].count().sum()"
   ]
  },
  {
   "cell_type": "code",
   "execution_count": 62,
   "id": "2abc6047-9588-44e2-b55f-09ba3725546d",
   "metadata": {},
   "outputs": [
    {
     "name": "stdout",
     "output_type": "stream",
     "text": [
      "ssp1\n",
      "239515351.66600987\n",
      "ssp2\n",
      "238873196.472252\n",
      "ssp3\n",
      "234495987.376714\n",
      "ssp4\n",
      "237511094.644772\n",
      "ssp5\n",
      "243379092.7204964\n"
     ]
    }
   ],
   "source": [
    "from pathlib import Path\n",
    "# define the file location   CT_scernario_2020_22_tractssp4_total_2050\n",
    "scenario = ['ssp1', 'ssp2', 'ssp3', 'ssp4', 'ssp5']\n",
    "folder = Path(r\"D:\\Work\\Box Sync\\Spatial_Population_geotiff\\Population from SSP\\r_extract_output\\\\\")\n",
    "for i, s in enumerate(scenario):\n",
    "    print(s)\n",
    "    # reading the zip file\n",
    "    csv_filenames = scenario[i] + '_total_*.tif.csv'\n",
    "    filenames = folder.glob(csv_filenames)\n",
    "    \n",
    "    # combining places for US into one file\n",
    "    master_df = pd.DataFrame()\n",
    "    for filename in filenames:\n",
    "        # print(filename)\n",
    "        df = pd.read_csv(filename, encoding='latin-1').add_suffix(str(filename)[-13:-8])\n",
    "        master_df = pd.concat([master_df, df], axis =1)\n",
    "        # master_df.append(pd.concat([pd.read_csv(filename, index_col = 0, dtype = {'GEOID': str})], axis =1).pipe(pd.DataFrame).add_suffix(str(filename)[-8:-4]))\n",
    "\n",
    "    print(master_df['population_2020'].sum())\n",
    "    # master_df.shape\n",
    "    # master_df.isna().sum()\n",
    "    # master_df[master_df['GEOID_2010'] != master_df['GEOID_2100']]\n",
    "\n",
    "    master_df['GEOID'] = master_df['GEOID_2100'].astype(str).str.rjust(7,'0')\n",
    "    master_df.drop(master_df.filter(regex='GEOID_|NAME_|NAMELSAD_20').columns, axis =1, inplace = True)\n",
    "\n",
    "    # master_df[master_df['std_2020'] > 2500]\n",
    "    master_df.to_csv(r'D:\\Work\\Box Sync\\Spatial_Population_geotiff\\Population from SSP\\r_concat_SSP\\\\population_from_' + str(s) + '.csv')\n"
   ]
  },
  {
   "cell_type": "code",
   "execution_count": null,
   "id": "52f7f094-94e8-49bd-9bf2-6bd94ab923b3",
   "metadata": {},
   "outputs": [],
   "source": [
    "# merging all scenarios"
   ]
  },
  {
   "cell_type": "code",
   "execution_count": 98,
   "id": "de2f734b-4178-4706-9e76-88393af92639",
   "metadata": {},
   "outputs": [],
   "source": [
    "from pathlib import Path\n",
    "# define the file location   CT_scernario_2020_22_tractssp4_total_2050\n",
    "folder = Path(r\"D:\\Work\\Box Sync\\Spatial_Population_geotiff\\Population from SSP\\r_concat_SSP\\\\\")\n",
    "ssp_filenames = 'population_from_*' + '.csv'\n",
    "files = folder.glob(ssp_filenames)\n",
    "dfs = [pd.read_csv(f, index_col = 0, dtype = {'GEOID': str},) for f in files]\n",
    "\n",
    "# Source: https://stackoverflow.com/questions/48236438/merge-multiple-dataframe-with-specified-suffix\n",
    "suffix = ('_ssp1', '_ssp2', '_ssp3', '_ssp4', '_ssp5')\n",
    "for i in range(len(dfs)):\n",
    "    dfs[i] = dfs[i].add_suffix(suffix[i])\n",
    "\n",
    "from functools import reduce\n",
    "def agg_df(dfList):\n",
    "    temp=reduce(lambda left, right: pd.merge(left, right, \n",
    "                                             left_index=True, right_index=True, \n",
    "                                             how='outer'), dfList)\n",
    "    return temp\n",
    "\n",
    "df = agg_df(dfs)\n",
    "df.shape\n",
    "df.to_csv(r\"D:\\Work\\Box Sync\\Spatial_Population_geotiff\\Population from SSP\\r_concat_SSP\\NCAR_agg_scenarios.csv\")"
   ]
  },
  {
   "cell_type": "code",
   "execution_count": 106,
   "id": "4aa23654-0881-46ee-84cb-62bbf28a23da",
   "metadata": {},
   "outputs": [],
   "source": [
    "df.filter(regex= 'population').sum().to_csv(r\"D:\\Work\\Box Sync\\Spatial_Population_geotiff\\Population from SSP\\r_concat_SSP\\NCAR_agg_scenarios_totals.csv\")"
   ]
  }
 ],
 "metadata": {
  "kernelspec": {
   "display_name": "Python 3 (ipykernel)",
   "language": "python",
   "name": "python3"
  },
  "language_info": {
   "codemirror_mode": {
    "name": "ipython",
    "version": 3
   },
   "file_extension": ".py",
   "mimetype": "text/x-python",
   "name": "python",
   "nbconvert_exporter": "python",
   "pygments_lexer": "ipython3",
   "version": "3.9.16"
  }
 },
 "nbformat": 4,
 "nbformat_minor": 5
}
