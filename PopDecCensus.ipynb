{
 "cells": [
  {
   "cell_type": "code",
   "execution_count": 1,
   "id": "db108d3b-d13f-4061-bc4f-7bfd30ac9db0",
   "metadata": {},
   "outputs": [],
   "source": [
    "# import packages\n",
    "import numpy as np\n",
    "import pandas as pd\n",
    "import matplotlib.pyplot as plt\n",
    "import glob"
   ]
  },
  {
   "cell_type": "code",
   "execution_count": 2,
   "id": "6e61d1da-2cc8-497b-a2b5-b780b9ed6159",
   "metadata": {},
   "outputs": [],
   "source": [
    "path = r'D:\\Work\\Box Sync\\Trends_all states\\Decennial Census Pop\\\\'"
   ]
  },
  {
   "cell_type": "code",
   "execution_count": 3,
   "id": "1933f842-b7fb-4b19-ab59-883ba7cf8618",
   "metadata": {},
   "outputs": [],
   "source": [
    "def read_data(path, name):\n",
    "    df = pd.read_csv(path+name, low_memory=False)\n",
    "    df = df.tail(-1).reset_index(drop=True)\n",
    "    df = df.iloc[:,:3]\n",
    "    print(df.head())\n",
    "    return df\n",
    " \n",
    "def check_data(df):\n",
    "    '''\n",
    "    some cells have wired values i.e. GEO_ID 1600000US0103076 NAME Auburn city, Alabama  P001001 53380(r38811)\n",
    "    '''\n",
    "    len_df = len(df)\n",
    "    for i in range(len_df):\n",
    "        if not df.iloc[i,2].isdigit():\n",
    "        # print(\"Index of the cell:\", i)\n",
    "            df.iloc[i,2] = df.iloc[i,2].split('(')[0]\n",
    "    df.iloc[:,2] = df.iloc[:,2].astype('float')\n",
    "    return df\n"
   ]
  },
  {
   "cell_type": "code",
   "execution_count": 4,
   "id": "f4cf713e-5d87-42ef-b5e3-154b4357e612",
   "metadata": {},
   "outputs": [],
   "source": [
    "# geocorr2000_14SEP1958292.csv is 2000 census population data at place level\n",
    "# derived from geocorr2000 using place to place conversion\n",
    "# since I couldn't find 2000 place level population from census\n",
    "p_2000 = pd.read_csv(path + 'geocorr2000_14SEP1958292.csv')\n",
    "p_2000 = p_2000.tail(-1)\n",
    "p_2000['GEOID'] = p_2000[['state','placefp']].astype(str).agg(''.join, axis=1)\n",
    "p_2000['pop2k'] = p_2000['pop2k'].astype('float')\n",
    "p_2000 = p_2000[['GEOID', 'placenm', 'pop2k']]"
   ]
  },
  {
   "cell_type": "code",
   "execution_count": 5,
   "id": "31dc70ea-5987-44af-8cc3-0fb855c62214",
   "metadata": {},
   "outputs": [
    {
     "data": {
      "text/plain": [
       "GEOID       object\n",
       "placenm     object\n",
       "pop2k      float64\n",
       "dtype: object"
      ]
     },
     "execution_count": 5,
     "metadata": {},
     "output_type": "execute_result"
    }
   ],
   "source": [
    "p_2000.dtypes"
   ]
  },
  {
   "cell_type": "code",
   "execution_count": 6,
   "id": "e4afa495-0023-4569-8455-33974aafdac0",
   "metadata": {},
   "outputs": [
    {
     "name": "stdout",
     "output_type": "stream",
     "text": [
      "             GEO_ID                      NAME P001001\n",
      "0  1600000US0100100       Abanda CDP, Alabama     192\n",
      "1  1600000US0100124   Abbeville city, Alabama    2688\n",
      "2  1600000US0100460  Adamsville city, Alabama    4522\n",
      "3  1600000US0100484     Addison town, Alabama     758\n",
      "4  1600000US0100676       Akron town, Alabama     356\n",
      "             GEO_ID                      NAME P1_001N\n",
      "0  1600000US0100100       Abanda CDP, Alabama     133\n",
      "1  1600000US0100124   Abbeville city, Alabama    2358\n",
      "2  1600000US0100460  Adamsville city, Alabama    4366\n",
      "3  1600000US0100484     Addison town, Alabama     659\n",
      "4  1600000US0100676       Akron town, Alabama     225\n"
     ]
    }
   ],
   "source": [
    "# US decennial census population at place level\n",
    "# downloaded from census bureau data base\n",
    "p_2010 = read_data(path, 'DECENNIALPL2010.P1-Data.csv')\n",
    "p_2020 = read_data(path, 'DECENNIALPL2020.P1-Data.csv')"
   ]
  },
  {
   "cell_type": "code",
   "execution_count": 7,
   "id": "9f319de8-b3a8-4c3c-8c76-7bfd9290b9a4",
   "metadata": {},
   "outputs": [],
   "source": [
    "p_2010 = check_data(p_2010)\n",
    "p_2020 = check_data(p_2020)"
   ]
  },
  {
   "cell_type": "code",
   "execution_count": 8,
   "id": "36d30bba-c761-4d59-beba-436b0b37cff1",
   "metadata": {},
   "outputs": [],
   "source": [
    "df_10_20_merged = p_2020.merge(p_2010, on ='GEO_ID', how ='outer', indicator =True)\n",
    "df_10_20_merged['GEOID'] = df_10_20_merged['GEO_ID'].str[-7:]"
   ]
  },
  {
   "cell_type": "code",
   "execution_count": 9,
   "id": "f9ee55b8-0009-4add-99ec-d660d15bcfb9",
   "metadata": {},
   "outputs": [
    {
     "data": {
      "text/plain": [
       "_merge\n",
       "both          29262\n",
       "left_only      2647\n",
       "right_only      252\n",
       "Name: count, dtype: int64"
      ]
     },
     "execution_count": 9,
     "metadata": {},
     "output_type": "execute_result"
    }
   ],
   "source": [
    "df_10_20_merged['_merge'].value_counts()"
   ]
  },
  {
   "cell_type": "code",
   "execution_count": 10,
   "id": "7e2fdd50-6b3e-4b47-84f7-af7de95d3c28",
   "metadata": {},
   "outputs": [],
   "source": [
    "# df_10_20_merged[df_10_20_merged['_merge'] == 'right_only'].sort_values('NAME_y').tail(60)"
   ]
  },
  {
   "cell_type": "code",
   "execution_count": 11,
   "id": "d43aeb69-bbc6-4123-babd-5e8cf967fcc0",
   "metadata": {},
   "outputs": [],
   "source": [
    "df_10_20_merged.columns = ['GEO_ID', 'NAME_2020', 'P_2020', 'NAME_2010', 'P_2010', '_merge_20_10', 'GEOID']"
   ]
  },
  {
   "cell_type": "code",
   "execution_count": 12,
   "id": "b0097de8-0bdd-4abc-9561-04da39da54c2",
   "metadata": {},
   "outputs": [],
   "source": [
    "df_master = df_10_20_merged.merge(p_2000, on = 'GEOID', how ='outer', indicator = True)"
   ]
  },
  {
   "cell_type": "code",
   "execution_count": 13,
   "id": "679100be-edff-4fe4-a722-25a436bf9564",
   "metadata": {},
   "outputs": [
    {
     "data": {
      "text/plain": [
       "_merge_20_10\n",
       "both          29262\n",
       "left_only      2647\n",
       "right_only      252\n",
       "Name: count, dtype: int64"
      ]
     },
     "execution_count": 13,
     "metadata": {},
     "output_type": "execute_result"
    }
   ],
   "source": [
    "# df_master.columns\n",
    "df_master['_merge_20_10'].value_counts()"
   ]
  },
  {
   "cell_type": "code",
   "execution_count": 14,
   "id": "3b0caf1b-74e8-4812-85c3-f7e567794751",
   "metadata": {},
   "outputs": [],
   "source": [
    "# df_master[df_master['_merge_20_10']!='both'].to_csv(r'D:\\Work\\Box Sync\\Depop Paper NC\\Paper Draft NC\\NC_submission\\non_matched_census_places_00_10.csv')"
   ]
  },
  {
   "cell_type": "code",
   "execution_count": 15,
   "id": "f116fe40-b689-44c3-b80e-48e0b8ad58b8",
   "metadata": {},
   "outputs": [],
   "source": [
    "df_master.rename(columns={\"pop2k\" : \"P_2000\"}, inplace=True)\n",
    "df_master['_merge'].value_counts()\n",
    "df_master[df_master['_merge']!='both'].to_csv(r'D:\\Work\\Box Sync\\Trends_all states\\Output from Analysis\\non_matched_census_places.csv')\n",
    "df_master[(df_master['_merge']=='both') & (df_master['_merge_20_10']=='both')].to_csv(r'D:\\Work\\Box Sync\\Trends_all states\\Output from Analysis\\matched_census_places.csv')"
   ]
  },
  {
   "cell_type": "code",
   "execution_count": 16,
   "id": "f1d37f8e-c305-46bc-8be6-12849dc02286",
   "metadata": {},
   "outputs": [],
   "source": [
    "df_common = pd.read_csv(r'D:\\Work\\Box Sync\\Trends_all states\\Output from Analysis\\matched_census_places_corrected_checked.csv')"
   ]
  },
  {
   "cell_type": "code",
   "execution_count": 17,
   "id": "f5b4d008-a903-4984-8b52-1513a16ec89f",
   "metadata": {},
   "outputs": [],
   "source": [
    "# # trying with Illinois first\n",
    "# df_master_IL = df_master[df_master['GEOID'].str.startswith('17')]\n",
    "# df_common = df_master_IL[df_master_IL['_merge']=='both']\n",
    "# df_common.shape, df_master_IL.shape, df_common.columns"
   ]
  },
  {
   "cell_type": "code",
   "execution_count": null,
   "id": "fa027253-a13e-4260-bcca-c5f252083821",
   "metadata": {},
   "outputs": [],
   "source": []
  },
  {
   "cell_type": "code",
   "execution_count": 18,
   "id": "e6e475d5-94ff-405d-8da2-cf63e2baa144",
   "metadata": {},
   "outputs": [],
   "source": [
    "df_common = df_common[(df_common[\"P_2020\"]!=0)]\n",
    "df_common = df_common[~(df_common[\"P_2010\"]==0)]\n",
    "df_common = df_common[~(df_common['NAME_2020'] =='Yeehaw Junction CDP, Florida')]"
   ]
  },
  {
   "cell_type": "code",
   "execution_count": 19,
   "id": "fb2a8984-4acf-4894-ad24-4ef526ba312d",
   "metadata": {},
   "outputs": [],
   "source": [
    "df_common['from_2010_to_2020'] = (df_common['P_2020'] - df_common['P_2010'])\n",
    "df_common['from_2000_to_2010'] = (df_common['P_2010'] - df_common['P_2000'])\n",
    "df_common['from_2000_to_2020'] = (df_common['P_2020'] - df_common['P_2000'])"
   ]
  },
  {
   "cell_type": "code",
   "execution_count": 20,
   "id": "06776f19-f1c4-4f78-92d0-bc9274236558",
   "metadata": {},
   "outputs": [
    {
     "data": {
      "text/plain": [
       "GEOID                0\n",
       "NAME_2020            0\n",
       "P_2000               0\n",
       "P_2010               0\n",
       "P_2020               0\n",
       "from_2000_to_2010    0\n",
       "from_2010_to_2020    0\n",
       "dtype: int64"
      ]
     },
     "execution_count": 20,
     "metadata": {},
     "output_type": "execute_result"
    }
   ],
   "source": [
    "df_common[['GEOID','NAME_2020', 'P_2000', 'P_2010', 'P_2020','from_2000_to_2010', 'from_2010_to_2020',]].isna().sum()"
   ]
  },
  {
   "cell_type": "code",
   "execution_count": 21,
   "id": "abb561cf-db20-4c6d-a530-4b880ead748f",
   "metadata": {},
   "outputs": [],
   "source": [
    "df_common = df_common[['GEOID', 'NAME_2020', 'P_2000','P_2010', 'P_2020', 'from_2000_to_2010', 'from_2010_to_2020','from_2000_to_2020']]"
   ]
  },
  {
   "cell_type": "code",
   "execution_count": 22,
   "id": "94117ea7-bfb4-454b-bf18-8be3d70d36bd",
   "metadata": {},
   "outputs": [
    {
     "name": "stdout",
     "output_type": "stream",
     "text": [
      "(24296, 16)\n"
     ]
    }
   ],
   "source": [
    "df_common['%_2000_to_2010'] = (df_common['P_2010'] - df_common['P_2000'])/ df_common['P_2000']\n",
    "df_common['%_2010_to_2020'] = (df_common['P_2020'] - df_common['P_2010'])/ df_common['P_2010']\n",
    "df_common['changeConsecDecade'] = df_common['%_2010_to_2020'] + df_common['%_2000_to_2010']\n",
    "df_common['total_changeRate'] = (df_common['P_2020'] - df_common['P_2000'])/ df_common['P_2000']\n",
    "df_common['mean_changeRate'] = (1/20)*(df_common['%_2000_to_2010']  + df_common['%_2010_to_2020'])\n",
    "df_common['sign_2000_2010'] = np.sign(df_common['%_2000_to_2010'])\n",
    "df_common['sign_2010_2020'] = np.sign(df_common['%_2010_to_2020'])\n",
    "df_common['sign_2000_2020'] = np.sign(df_common['total_changeRate'])\n",
    "print(df_common.shape)"
   ]
  },
  {
   "cell_type": "code",
   "execution_count": 23,
   "id": "796eced2-1ab0-45b8-b1b3-8958d5acf534",
   "metadata": {},
   "outputs": [
    {
     "data": {
      "text/plain": [
       "((24296, 16), (24296, 16))"
      ]
     },
     "execution_count": 23,
     "metadata": {},
     "output_type": "execute_result"
    }
   ],
   "source": [
    "df_final = df_common.dropna()\n",
    "df_common.shape, df_final.shape"
   ]
  },
  {
   "cell_type": "code",
   "execution_count": 24,
   "id": "6e8a6e81-4744-4fa9-bbc0-e9cb2690cb9a",
   "metadata": {},
   "outputs": [
    {
     "name": "stdout",
     "output_type": "stream",
     "text": [
      "Index(['GEOID', 'NAME_2020', 'P_2000', 'P_2010', 'P_2020', 'from_2000_to_2010',\n",
      "       'from_2010_to_2020', 'from_2000_to_2020', '%_2000_to_2010',\n",
      "       '%_2010_to_2020', 'changeConsecDecade', 'total_changeRate',\n",
      "       'mean_changeRate', 'sign_2000_2010', 'sign_2010_2020',\n",
      "       'sign_2000_2020'],\n",
      "      dtype='object') (24296, 16)\n",
      "21.67012879484821 0.006576687261448197 -0.0868103448275862\n",
      "261.0 0.15597939963764082 -0.996551724137931\n"
     ]
    }
   ],
   "source": [
    "df = df_final.copy().reset_index(drop=True)\n",
    "df['GEOID'] = df['GEOID'].astype(str).str.rjust(7,'0')\n",
    "print(df.columns, df.shape)\n",
    "df.replace([np.inf, -np.inf], np.nan, inplace=True)\n",
    "\n",
    "# slicing column value to match with shapefile for joining\n",
    "print(df['mean_changeRate'].max(), df['mean_changeRate'].mean(), df['mean_changeRate'].min())\n",
    "print(df['total_changeRate'].max(), df['total_changeRate'].mean(),df['total_changeRate'].min())"
   ]
  },
  {
   "cell_type": "code",
   "execution_count": 25,
   "id": "c3b7aa1f-40d9-490d-90c7-010a58886189",
   "metadata": {},
   "outputs": [],
   "source": [
    "# from mpl_toolkits import mplot3d\n",
    "# fig = plt.figure()\n",
    "# ax = plt.axes(projection='3d')\n",
    "# plot_df = df[(df['total_changeRate'] < 10) & (df['mean_changeRate'] < 5)]\n",
    "\n",
    "# ax.scatter3D(plot_df['%_2000_to_2010'], plot_df['%_2000_to_2010'],plot_df['total_changeRate'],  cmap='Greens');"
   ]
  },
  {
   "cell_type": "code",
   "execution_count": 26,
   "id": "dd364d1e-541e-4d6a-981b-f1e9ea82ffae",
   "metadata": {},
   "outputs": [],
   "source": [
    "#places_with_trend.replace(np.inf, np.nan, inplace=True)\n",
    "lower = df['%_2010_to_2020'].min() - 1\n",
    "upper = df['%_2010_to_2020'].max() + 1\n",
    "\n",
    "df['change_Rate'] = pd.cut(df['%_2010_to_2020'],include_lowest=True, right =True, #right= False,\n",
    "                           bins=[lower,  -0.5 , -0.1, 0, 0.1, 0.5, upper],)\n"
   ]
  },
  {
   "cell_type": "code",
   "execution_count": 27,
   "id": "0ea3c5bb-e0ec-4a3b-b333-4527c957f9fe",
   "metadata": {},
   "outputs": [],
   "source": [
    "import math\n",
    "df['%annual_10_20'] = df['%_2010_to_2020']/10\n",
    "lower = math.floor(df['%annual_10_20'].min())\n",
    "upper = math.ceil(df['%annual_10_20'].max())\n",
    "df['annual_change'] = pd.cut(df['%annual_10_20'],include_lowest=True, right= False,\n",
    "                           bins=[lower,  -0.05 , -0.01, 0, 0.01, 0.05, upper],)"
   ]
  },
  {
   "cell_type": "code",
   "execution_count": 28,
   "id": "ff3e64f6-37c0-4ebc-96b3-9cf183c6d065",
   "metadata": {
    "scrolled": true
   },
   "outputs": [
    {
     "data": {
      "text/html": [
       "<div>\n",
       "<style scoped>\n",
       "    .dataframe tbody tr th:only-of-type {\n",
       "        vertical-align: middle;\n",
       "    }\n",
       "\n",
       "    .dataframe tbody tr th {\n",
       "        vertical-align: top;\n",
       "    }\n",
       "\n",
       "    .dataframe thead th {\n",
       "        text-align: right;\n",
       "    }\n",
       "</style>\n",
       "<table border=\"1\" class=\"dataframe\">\n",
       "  <thead>\n",
       "    <tr style=\"text-align: right;\">\n",
       "      <th></th>\n",
       "      <th></th>\n",
       "      <th>annual_change</th>\n",
       "      <th>[-1.0, -0.05)</th>\n",
       "      <th>[-0.05, -0.01)</th>\n",
       "      <th>[-0.01, 0.0)</th>\n",
       "      <th>[0.0, 0.01)</th>\n",
       "      <th>[0.01, 0.05)</th>\n",
       "      <th>[0.05, 9.0)</th>\n",
       "    </tr>\n",
       "    <tr>\n",
       "      <th>sign_2000_2010</th>\n",
       "      <th>sign_2010_2020</th>\n",
       "      <th>sign_2000_2020</th>\n",
       "      <th></th>\n",
       "      <th></th>\n",
       "      <th></th>\n",
       "      <th></th>\n",
       "      <th></th>\n",
       "      <th></th>\n",
       "    </tr>\n",
       "  </thead>\n",
       "  <tbody>\n",
       "    <tr>\n",
       "      <th rowspan=\"5\" valign=\"top\">-1.0</th>\n",
       "      <th>-1.0</th>\n",
       "      <th>-1.0</th>\n",
       "      <td>77</td>\n",
       "      <td>3042</td>\n",
       "      <td>4151</td>\n",
       "      <td>0</td>\n",
       "      <td>0</td>\n",
       "      <td>0</td>\n",
       "    </tr>\n",
       "    <tr>\n",
       "      <th>0.0</th>\n",
       "      <th>-1.0</th>\n",
       "      <td>0</td>\n",
       "      <td>0</td>\n",
       "      <td>0</td>\n",
       "      <td>85</td>\n",
       "      <td>0</td>\n",
       "      <td>0</td>\n",
       "    </tr>\n",
       "    <tr>\n",
       "      <th rowspan=\"3\" valign=\"top\">1.0</th>\n",
       "      <th>-1.0</th>\n",
       "      <td>0</td>\n",
       "      <td>0</td>\n",
       "      <td>0</td>\n",
       "      <td>1863</td>\n",
       "      <td>349</td>\n",
       "      <td>28</td>\n",
       "    </tr>\n",
       "    <tr>\n",
       "      <th>0.0</th>\n",
       "      <td>0</td>\n",
       "      <td>0</td>\n",
       "      <td>0</td>\n",
       "      <td>28</td>\n",
       "      <td>10</td>\n",
       "      <td>8</td>\n",
       "    </tr>\n",
       "    <tr>\n",
       "      <th>1.0</th>\n",
       "      <td>0</td>\n",
       "      <td>0</td>\n",
       "      <td>0</td>\n",
       "      <td>1009</td>\n",
       "      <td>709</td>\n",
       "      <td>141</td>\n",
       "    </tr>\n",
       "    <tr>\n",
       "      <th rowspan=\"3\" valign=\"top\">0.0</th>\n",
       "      <th>-1.0</th>\n",
       "      <th>-1.0</th>\n",
       "      <td>2</td>\n",
       "      <td>53</td>\n",
       "      <td>40</td>\n",
       "      <td>0</td>\n",
       "      <td>0</td>\n",
       "      <td>0</td>\n",
       "    </tr>\n",
       "    <tr>\n",
       "      <th>0.0</th>\n",
       "      <th>0.0</th>\n",
       "      <td>0</td>\n",
       "      <td>0</td>\n",
       "      <td>0</td>\n",
       "      <td>1</td>\n",
       "      <td>0</td>\n",
       "      <td>0</td>\n",
       "    </tr>\n",
       "    <tr>\n",
       "      <th>1.0</th>\n",
       "      <th>1.0</th>\n",
       "      <td>0</td>\n",
       "      <td>0</td>\n",
       "      <td>0</td>\n",
       "      <td>22</td>\n",
       "      <td>14</td>\n",
       "      <td>6</td>\n",
       "    </tr>\n",
       "    <tr>\n",
       "      <th rowspan=\"5\" valign=\"top\">1.0</th>\n",
       "      <th rowspan=\"3\" valign=\"top\">-1.0</th>\n",
       "      <th>-1.0</th>\n",
       "      <td>70</td>\n",
       "      <td>1470</td>\n",
       "      <td>1041</td>\n",
       "      <td>0</td>\n",
       "      <td>0</td>\n",
       "      <td>0</td>\n",
       "    </tr>\n",
       "    <tr>\n",
       "      <th>0.0</th>\n",
       "      <td>0</td>\n",
       "      <td>13</td>\n",
       "      <td>32</td>\n",
       "      <td>0</td>\n",
       "      <td>0</td>\n",
       "      <td>0</td>\n",
       "    </tr>\n",
       "    <tr>\n",
       "      <th>1.0</th>\n",
       "      <td>6</td>\n",
       "      <td>493</td>\n",
       "      <td>2065</td>\n",
       "      <td>0</td>\n",
       "      <td>0</td>\n",
       "      <td>0</td>\n",
       "    </tr>\n",
       "    <tr>\n",
       "      <th>0.0</th>\n",
       "      <th>1.0</th>\n",
       "      <td>0</td>\n",
       "      <td>0</td>\n",
       "      <td>0</td>\n",
       "      <td>36</td>\n",
       "      <td>0</td>\n",
       "      <td>0</td>\n",
       "    </tr>\n",
       "    <tr>\n",
       "      <th>1.0</th>\n",
       "      <th>1.0</th>\n",
       "      <td>0</td>\n",
       "      <td>0</td>\n",
       "      <td>0</td>\n",
       "      <td>4129</td>\n",
       "      <td>2897</td>\n",
       "      <td>406</td>\n",
       "    </tr>\n",
       "  </tbody>\n",
       "</table>\n",
       "</div>"
      ],
      "text/plain": [
       "annual_change                                 [-1.0, -0.05)  [-0.05, -0.01)  \\\n",
       "sign_2000_2010 sign_2010_2020 sign_2000_2020                                  \n",
       "-1.0           -1.0           -1.0                       77            3042   \n",
       "                0.0           -1.0                        0               0   \n",
       "                1.0           -1.0                        0               0   \n",
       "                               0.0                        0               0   \n",
       "                               1.0                        0               0   \n",
       " 0.0           -1.0           -1.0                        2              53   \n",
       "                0.0            0.0                        0               0   \n",
       "                1.0            1.0                        0               0   \n",
       " 1.0           -1.0           -1.0                       70            1470   \n",
       "                               0.0                        0              13   \n",
       "                               1.0                        6             493   \n",
       "                0.0            1.0                        0               0   \n",
       "                1.0            1.0                        0               0   \n",
       "\n",
       "annual_change                                 [-0.01, 0.0)  [0.0, 0.01)  \\\n",
       "sign_2000_2010 sign_2010_2020 sign_2000_2020                              \n",
       "-1.0           -1.0           -1.0                    4151            0   \n",
       "                0.0           -1.0                       0           85   \n",
       "                1.0           -1.0                       0         1863   \n",
       "                               0.0                       0           28   \n",
       "                               1.0                       0         1009   \n",
       " 0.0           -1.0           -1.0                      40            0   \n",
       "                0.0            0.0                       0            1   \n",
       "                1.0            1.0                       0           22   \n",
       " 1.0           -1.0           -1.0                    1041            0   \n",
       "                               0.0                      32            0   \n",
       "                               1.0                    2065            0   \n",
       "                0.0            1.0                       0           36   \n",
       "                1.0            1.0                       0         4129   \n",
       "\n",
       "annual_change                                 [0.01, 0.05)  [0.05, 9.0)  \n",
       "sign_2000_2010 sign_2010_2020 sign_2000_2020                             \n",
       "-1.0           -1.0           -1.0                       0            0  \n",
       "                0.0           -1.0                       0            0  \n",
       "                1.0           -1.0                     349           28  \n",
       "                               0.0                      10            8  \n",
       "                               1.0                     709          141  \n",
       " 0.0           -1.0           -1.0                       0            0  \n",
       "                0.0            0.0                       0            0  \n",
       "                1.0            1.0                      14            6  \n",
       " 1.0           -1.0           -1.0                       0            0  \n",
       "                               0.0                       0            0  \n",
       "                               1.0                       0            0  \n",
       "                0.0            1.0                       0            0  \n",
       "                1.0            1.0                    2897          406  "
      ]
     },
     "execution_count": 28,
     "metadata": {},
     "output_type": "execute_result"
    }
   ],
   "source": [
    "math.floor(df['%annual_10_20'].min()), df['%annual_10_20'].min()\n",
    "pd.crosstab([df.sign_2000_2010, df.sign_2010_2020, df.sign_2000_2020], df.annual_change)"
   ]
  },
  {
   "cell_type": "code",
   "execution_count": 29,
   "id": "219570eb-446d-46b4-985d-eebae8e25826",
   "metadata": {},
   "outputs": [
    {
     "data": {
      "text/plain": [
       "annual_change\n",
       "[-1.0, -0.05)      155\n",
       "[-0.05, -0.01)    5071\n",
       "[-0.01, 0.0)      7329\n",
       "[0.0, 0.01)       7173\n",
       "[0.01, 0.05)      3979\n",
       "[0.05, 9.0)        589\n",
       "dtype: int64"
      ]
     },
     "execution_count": 29,
     "metadata": {},
     "output_type": "execute_result"
    }
   ],
   "source": [
    "pd.crosstab([df.sign_2000_2010, df.sign_2010_2020, df.sign_2000_2020], df.annual_change).sum()"
   ]
  },
  {
   "cell_type": "code",
   "execution_count": 30,
   "id": "cf3266e2-9cf9-4aff-ab0c-ca27c029f8db",
   "metadata": {},
   "outputs": [
    {
     "data": {
      "text/plain": [
       "(7329, 7172)"
      ]
     },
     "execution_count": 30,
     "metadata": {},
     "output_type": "execute_result"
    }
   ],
   "source": [
    "7329, 7172"
   ]
  },
  {
   "cell_type": "code",
   "execution_count": 31,
   "id": "c32f659a-00c4-451f-a7b5-c0e03e0af300",
   "metadata": {},
   "outputs": [],
   "source": [
    "# df['trend2'].value_counts()\n",
    "# df[(df['sign_2000_2010'] >0) & (df['sign_2010_2020'] >0) & (df['sign_2000_2020'] >0) & (df['%_2010_to_2020'] <= 0.1)].shape"
   ]
  },
  {
   "cell_type": "code",
   "execution_count": 32,
   "id": "e237b0b2-3e1b-4016-9e5a-80d1bbace440",
   "metadata": {},
   "outputs": [
    {
     "data": {
      "text/html": [
       "<div>\n",
       "<style scoped>\n",
       "    .dataframe tbody tr th:only-of-type {\n",
       "        vertical-align: middle;\n",
       "    }\n",
       "\n",
       "    .dataframe tbody tr th {\n",
       "        vertical-align: top;\n",
       "    }\n",
       "\n",
       "    .dataframe thead th {\n",
       "        text-align: right;\n",
       "    }\n",
       "</style>\n",
       "<table border=\"1\" class=\"dataframe\">\n",
       "  <thead>\n",
       "    <tr style=\"text-align: right;\">\n",
       "      <th></th>\n",
       "      <th></th>\n",
       "      <th>change_Rate</th>\n",
       "      <th>(-1.9849999999999999, -0.5]</th>\n",
       "      <th>(-0.5, -0.1]</th>\n",
       "      <th>(-0.1, 0.0]</th>\n",
       "      <th>(0.0, 0.1]</th>\n",
       "      <th>(0.1, 0.5]</th>\n",
       "      <th>(0.5, 90.237]</th>\n",
       "    </tr>\n",
       "    <tr>\n",
       "      <th>sign_2000_2010</th>\n",
       "      <th>sign_2010_2020</th>\n",
       "      <th>sign_2000_2020</th>\n",
       "      <th></th>\n",
       "      <th></th>\n",
       "      <th></th>\n",
       "      <th></th>\n",
       "      <th></th>\n",
       "      <th></th>\n",
       "    </tr>\n",
       "  </thead>\n",
       "  <tbody>\n",
       "    <tr>\n",
       "      <th rowspan=\"5\" valign=\"top\">-1.0</th>\n",
       "      <th>-1.0</th>\n",
       "      <th>-1.0</th>\n",
       "      <td>82</td>\n",
       "      <td>3043</td>\n",
       "      <td>4145</td>\n",
       "      <td>0</td>\n",
       "      <td>0</td>\n",
       "      <td>0</td>\n",
       "    </tr>\n",
       "    <tr>\n",
       "      <th>0.0</th>\n",
       "      <th>-1.0</th>\n",
       "      <td>0</td>\n",
       "      <td>0</td>\n",
       "      <td>85</td>\n",
       "      <td>0</td>\n",
       "      <td>0</td>\n",
       "      <td>0</td>\n",
       "    </tr>\n",
       "    <tr>\n",
       "      <th rowspan=\"3\" valign=\"top\">1.0</th>\n",
       "      <th>-1.0</th>\n",
       "      <td>0</td>\n",
       "      <td>0</td>\n",
       "      <td>0</td>\n",
       "      <td>1863</td>\n",
       "      <td>352</td>\n",
       "      <td>25</td>\n",
       "    </tr>\n",
       "    <tr>\n",
       "      <th>0.0</th>\n",
       "      <td>0</td>\n",
       "      <td>0</td>\n",
       "      <td>0</td>\n",
       "      <td>29</td>\n",
       "      <td>9</td>\n",
       "      <td>8</td>\n",
       "    </tr>\n",
       "    <tr>\n",
       "      <th>1.0</th>\n",
       "      <td>0</td>\n",
       "      <td>0</td>\n",
       "      <td>0</td>\n",
       "      <td>1010</td>\n",
       "      <td>709</td>\n",
       "      <td>140</td>\n",
       "    </tr>\n",
       "    <tr>\n",
       "      <th rowspan=\"3\" valign=\"top\">0.0</th>\n",
       "      <th>-1.0</th>\n",
       "      <th>-1.0</th>\n",
       "      <td>2</td>\n",
       "      <td>53</td>\n",
       "      <td>40</td>\n",
       "      <td>0</td>\n",
       "      <td>0</td>\n",
       "      <td>0</td>\n",
       "    </tr>\n",
       "    <tr>\n",
       "      <th>0.0</th>\n",
       "      <th>0.0</th>\n",
       "      <td>0</td>\n",
       "      <td>0</td>\n",
       "      <td>1</td>\n",
       "      <td>0</td>\n",
       "      <td>0</td>\n",
       "      <td>0</td>\n",
       "    </tr>\n",
       "    <tr>\n",
       "      <th>1.0</th>\n",
       "      <th>1.0</th>\n",
       "      <td>0</td>\n",
       "      <td>0</td>\n",
       "      <td>0</td>\n",
       "      <td>22</td>\n",
       "      <td>14</td>\n",
       "      <td>6</td>\n",
       "    </tr>\n",
       "    <tr>\n",
       "      <th rowspan=\"5\" valign=\"top\">1.0</th>\n",
       "      <th rowspan=\"3\" valign=\"top\">-1.0</th>\n",
       "      <th>-1.0</th>\n",
       "      <td>71</td>\n",
       "      <td>1471</td>\n",
       "      <td>1039</td>\n",
       "      <td>0</td>\n",
       "      <td>0</td>\n",
       "      <td>0</td>\n",
       "    </tr>\n",
       "    <tr>\n",
       "      <th>0.0</th>\n",
       "      <td>0</td>\n",
       "      <td>13</td>\n",
       "      <td>32</td>\n",
       "      <td>0</td>\n",
       "      <td>0</td>\n",
       "      <td>0</td>\n",
       "    </tr>\n",
       "    <tr>\n",
       "      <th>1.0</th>\n",
       "      <td>6</td>\n",
       "      <td>497</td>\n",
       "      <td>2061</td>\n",
       "      <td>0</td>\n",
       "      <td>0</td>\n",
       "      <td>0</td>\n",
       "    </tr>\n",
       "    <tr>\n",
       "      <th>0.0</th>\n",
       "      <th>1.0</th>\n",
       "      <td>0</td>\n",
       "      <td>0</td>\n",
       "      <td>36</td>\n",
       "      <td>0</td>\n",
       "      <td>0</td>\n",
       "      <td>0</td>\n",
       "    </tr>\n",
       "    <tr>\n",
       "      <th>1.0</th>\n",
       "      <th>1.0</th>\n",
       "      <td>0</td>\n",
       "      <td>0</td>\n",
       "      <td>0</td>\n",
       "      <td>4133</td>\n",
       "      <td>2895</td>\n",
       "      <td>404</td>\n",
       "    </tr>\n",
       "  </tbody>\n",
       "</table>\n",
       "</div>"
      ],
      "text/plain": [
       "change_Rate                                   (-1.9849999999999999, -0.5]  \\\n",
       "sign_2000_2010 sign_2010_2020 sign_2000_2020                                \n",
       "-1.0           -1.0           -1.0                                     82   \n",
       "                0.0           -1.0                                      0   \n",
       "                1.0           -1.0                                      0   \n",
       "                               0.0                                      0   \n",
       "                               1.0                                      0   \n",
       " 0.0           -1.0           -1.0                                      2   \n",
       "                0.0            0.0                                      0   \n",
       "                1.0            1.0                                      0   \n",
       " 1.0           -1.0           -1.0                                     71   \n",
       "                               0.0                                      0   \n",
       "                               1.0                                      6   \n",
       "                0.0            1.0                                      0   \n",
       "                1.0            1.0                                      0   \n",
       "\n",
       "change_Rate                                   (-0.5, -0.1]  (-0.1, 0.0]  \\\n",
       "sign_2000_2010 sign_2010_2020 sign_2000_2020                              \n",
       "-1.0           -1.0           -1.0                    3043         4145   \n",
       "                0.0           -1.0                       0           85   \n",
       "                1.0           -1.0                       0            0   \n",
       "                               0.0                       0            0   \n",
       "                               1.0                       0            0   \n",
       " 0.0           -1.0           -1.0                      53           40   \n",
       "                0.0            0.0                       0            1   \n",
       "                1.0            1.0                       0            0   \n",
       " 1.0           -1.0           -1.0                    1471         1039   \n",
       "                               0.0                      13           32   \n",
       "                               1.0                     497         2061   \n",
       "                0.0            1.0                       0           36   \n",
       "                1.0            1.0                       0            0   \n",
       "\n",
       "change_Rate                                   (0.0, 0.1]  (0.1, 0.5]  \\\n",
       "sign_2000_2010 sign_2010_2020 sign_2000_2020                           \n",
       "-1.0           -1.0           -1.0                     0           0   \n",
       "                0.0           -1.0                     0           0   \n",
       "                1.0           -1.0                  1863         352   \n",
       "                               0.0                    29           9   \n",
       "                               1.0                  1010         709   \n",
       " 0.0           -1.0           -1.0                     0           0   \n",
       "                0.0            0.0                     0           0   \n",
       "                1.0            1.0                    22          14   \n",
       " 1.0           -1.0           -1.0                     0           0   \n",
       "                               0.0                     0           0   \n",
       "                               1.0                     0           0   \n",
       "                0.0            1.0                     0           0   \n",
       "                1.0            1.0                  4133        2895   \n",
       "\n",
       "change_Rate                                   (0.5, 90.237]  \n",
       "sign_2000_2010 sign_2010_2020 sign_2000_2020                 \n",
       "-1.0           -1.0           -1.0                        0  \n",
       "                0.0           -1.0                        0  \n",
       "                1.0           -1.0                       25  \n",
       "                               0.0                        8  \n",
       "                               1.0                      140  \n",
       " 0.0           -1.0           -1.0                        0  \n",
       "                0.0            0.0                        0  \n",
       "                1.0            1.0                        6  \n",
       " 1.0           -1.0           -1.0                        0  \n",
       "                               0.0                        0  \n",
       "                               1.0                        0  \n",
       "                0.0            1.0                        0  \n",
       "                1.0            1.0                      404  "
      ]
     },
     "execution_count": 32,
     "metadata": {},
     "output_type": "execute_result"
    }
   ],
   "source": [
    "pd.crosstab([df.sign_2000_2010, df.sign_2010_2020, df.sign_2000_2020], df.change_Rate)"
   ]
  },
  {
   "cell_type": "code",
   "execution_count": 33,
   "id": "5334c056-e3d7-489e-92e5-e06e6f267f47",
   "metadata": {},
   "outputs": [
    {
     "data": {
      "text/plain": [
       "change_Rate\n",
       "(-1.9849999999999999, -0.5]     161\n",
       "(-0.5, -0.1]                   5077\n",
       "(-0.1, 0.0]                    7439\n",
       "(0.0, 0.1]                     7057\n",
       "(0.1, 0.5]                     3979\n",
       "(0.5, 90.237]                   583\n",
       "dtype: int64"
      ]
     },
     "execution_count": 33,
     "metadata": {},
     "output_type": "execute_result"
    }
   ],
   "source": [
    "pd.crosstab([df.sign_2000_2010, df.sign_2010_2020, df.sign_2000_2020], df.change_Rate).sum()"
   ]
  },
  {
   "cell_type": "code",
   "execution_count": 34,
   "id": "f44cc365-64cc-40e5-9990-15cf3e0b202e",
   "metadata": {},
   "outputs": [
    {
     "name": "stdout",
     "output_type": "stream",
     "text": [
      "24296\n"
     ]
    }
   ],
   "source": [
    "var1 = 'sign_2000_2010'\n",
    "var2 = 'sign_2010_2020'\n",
    "var3 = 'sign_2000_2020'\n",
    "var4 = 'changeConsecDecade'\n",
    "var5 = '%_2010_to_2020'\n",
    "outputCol = 'trend2'\n",
    "df[outputCol] = ''\n",
    "df_length = len(df)\n",
    "print(df_length)\n",
    "\n",
    "for i in range(df_length):\n",
    "   \n",
    "    # consecutive population loss for two decades\n",
    "    if (df.loc[i,var1] < 0) & (df.loc[i,var2] < 0) & (df.loc[i,var3] < 0):\n",
    "        if (df.loc[i,var5] <= -0.5):\n",
    "            df.loc[i,outputCol] = '1 severely depopulating'\n",
    "        elif (-0.5 < df.loc[i,var5] <= -0.1):\n",
    "            df.loc[i,outputCol] = '2 moderately depopulating'\n",
    "        else:\n",
    "            df.loc[i,outputCol] = '3 slowly depopulating'\n",
    "        \n",
    "    # consecutive population gain for two decades\n",
    "    elif (df.loc[i,var1] > 0) & (df.loc[i,var2] > 0) & (df.loc[i,var3] > 0):\n",
    "        if (df.loc[i,var5] >= 0.5):\n",
    "            df.loc[i,outputCol] = '7 highly increasing'\n",
    "        elif (0.1 <= df.loc[i,var5] < 0.5):\n",
    "            df.loc[i,outputCol] = '6 moderately increasing'\n",
    "        else:\n",
    "            df.loc[i,outputCol] = '5 slowly increasing'\n",
    "            \n",
    "    # consecutive population gain/loss for two decades  \n",
    "    elif (df.loc[i,var1] > 0) & (df.loc[i,var2] < 0) & (df.loc[i,var3] > 0):\n",
    "        if (df.loc[i,var5] <= - 0.5):\n",
    "            df.loc[i,outputCol] = '1 severely depopulating'\n",
    "        elif (-0.5 < df.loc[i,var5] <= - 0.1):\n",
    "            df.loc[i,outputCol] = '3 slowly depopulating'\n",
    "        else:\n",
    "            df.loc[i,outputCol] = '4 fluctuating'\n",
    "            \n",
    "    # consecutive population loss-gain-loss for two decades  \n",
    "    elif (df.loc[i,var1] < 0) & (df.loc[i,var2] > 0) & (df.loc[i,var3] < 0):\n",
    "        if (df.loc[i,var5] >= 0.5):\n",
    "            df.loc[i,outputCol] = '7 highly increasing'\n",
    "        elif (0.1 <= df.loc[i,var5] < 0.5):\n",
    "            df.loc[i,outputCol] = '5 slowly increasing'\n",
    "        else:\n",
    "            df.loc[i,outputCol] = '4 fluctuating'\n",
    "\n",
    "    elif (df.loc[i,var1] < 0) & (df.loc[i,var2] == 0) & (df.loc[i,var3] < 0):\n",
    "        df.loc[i,outputCol] = '4 fluctuating'\n",
    "    elif (df.loc[i,var1] < 0) & (df.loc[i,var2] > 0) & (df.loc[i,var3] == 0):\n",
    "        df.loc[i,outputCol] = '4 fluctuating'\n",
    "    elif (df.loc[i,var1] > 0) & (df.loc[i,var2] < 0) & (df.loc[i,var3] == 0):\n",
    "        df.loc[i,outputCol] = '4 fluctuating'\n",
    "    elif (df.loc[i,var1] > 0) & (df.loc[i,var2] == 0) & (df.loc[i,var3] > 0):\n",
    "        df.loc[i,outputCol] = '4 fluctuating'\n",
    "   \n",
    "    # gain-loss-loss\n",
    "    elif (df.loc[i,var1] > 0) & (df.loc[i,var2] < 0) & (df.loc[i,var3] < 0):\n",
    "        if (df.loc[i,var5] <= - 0.5):\n",
    "            df.loc[i,outputCol] = '1 severely depopulating'\n",
    "        elif (-0.5 < df.loc[i,var5] <= - 0.1):\n",
    "            df.loc[i,outputCol] = '2 moderately depopulating'\n",
    "        elif (df.loc[i,var5] > - 0.1):\n",
    "            df.loc[i,outputCol] = '3 slowly depopulating'\n",
    "            \n",
    "    # loss-gain-gain  \n",
    "    elif (df.loc[i,var1] < 0) & (df.loc[i,var2] > 0) & (df.loc[i,var3] > 0):\n",
    "        if (df.loc[i,var5] >= 0.5):\n",
    "            df.loc[i,outputCol] = '7 highly increasing'\n",
    "        elif (0.1 <= df.loc[i,var5] < 0.5):\n",
    "            df.loc[i,outputCol] = '6 moderately increasing'\n",
    "        elif (df.loc[i,var5] < 0.1):\n",
    "            df.loc[i,outputCol] = '5 slowly increasing'\n",
    "        \n",
    "    elif (df.loc[i,var1] == 0) & (df.loc[i,var2] < 0) & (df.loc[i,var3] < 0):\n",
    "        if (df.loc[i,var5] <= - 0.1):\n",
    "            df.loc[i,outputCol] = '2 moderately depopulating'\n",
    "        elif (df.loc[i,var5] > - 0.1):\n",
    "            df.loc[i,outputCol] = '3 slowly depopulating'\n",
    "        \n",
    "    elif (df.loc[i,var1] == 0) & (df.loc[i,var2] > 0) & (df.loc[i,var3] > 0):\n",
    "        if (df.loc[i,var5] >= 0.1):\n",
    "            df.loc[i,outputCol] = '6 moderately increasing'\n",
    "        elif (df.loc[i,var5] < 0.1):\n",
    "            df.loc[i,outputCol] = '5 slowly increasing'\n",
    "            \n",
    "    else:\n",
    "        df.loc[i,outputCol] = np.nan"
   ]
  },
  {
   "cell_type": "code",
   "execution_count": 35,
   "id": "70a99284-1a01-4d17-8f6b-d41696e42f91",
   "metadata": {},
   "outputs": [
    {
     "data": {
      "text/plain": [
       "(0.4300884955752212, 0.3996295534060506, 0.1702407902860671)"
      ]
     },
     "execution_count": 35,
     "metadata": {},
     "output_type": "execute_result"
    }
   ],
   "source": [
    "(159+4569+5721)/df['trend2'].sort_values().value_counts().sum(), (5508+3626+575)/df['trend2'].sort_values().value_counts().sum(), 4136/df['trend2'].sort_values().value_counts().sum()"
   ]
  },
  {
   "cell_type": "code",
   "execution_count": 36,
   "id": "5daf91ba-00a4-4084-b4ef-68c4a1f4a22f",
   "metadata": {},
   "outputs": [
    {
     "data": {
      "text/plain": [
       "trend2\n",
       "3 slowly depopulating        5721\n",
       "5 slowly increasing          5509\n",
       "2 moderately depopulating    4569\n",
       "4 fluctuating                4136\n",
       "6 moderately increasing      3626\n",
       "7 highly increasing           575\n",
       "1 severely depopulating       159\n",
       "Name: count, dtype: int64"
      ]
     },
     "execution_count": 36,
     "metadata": {},
     "output_type": "execute_result"
    }
   ],
   "source": [
    "df['trend2'].sort_values().value_counts()"
   ]
  },
  {
   "cell_type": "code",
   "execution_count": 37,
   "id": "1fe867c4-2819-48f0-b0a7-a57167e5dc9d",
   "metadata": {},
   "outputs": [
    {
     "data": {
      "text/plain": [
       "<Geographic 2D CRS: GEOGCS[\"GCS_North_American_1983\",DATUM[\"D_North_Am ...>\n",
       "Name: NAD83\n",
       "Axis Info [ellipsoidal]:\n",
       "- lon[east]: Longitude (Degree)\n",
       "- lat[north]: Latitude (Degree)\n",
       "Area of Use:\n",
       "- undefined\n",
       "Datum: North American Datum 1983\n",
       "- Ellipsoid: GRS 1980\n",
       "- Prime Meridian: Greenwich"
      ]
     },
     "execution_count": 37,
     "metadata": {},
     "output_type": "execute_result"
    }
   ],
   "source": [
    "import geopandas as gpd\n",
    "\n",
    "US_places = gpd.read_file(r'D:\\Work\\Box Sync\\Trends_all states\\Maps_2020\\compiled.shp')\n",
    "US_places.crs"
   ]
  },
  {
   "cell_type": "code",
   "execution_count": 38,
   "id": "08625ad6-8dde-4c7a-9cde-cc328cf309a8",
   "metadata": {},
   "outputs": [],
   "source": [
    "# !pip install pyproj\n"
   ]
  },
  {
   "cell_type": "code",
   "execution_count": 39,
   "id": "cc05bd55-9123-4615-b334-50ba443a1ac1",
   "metadata": {},
   "outputs": [],
   "source": [
    "US_places = US_places.to_crs('EPSG:9311')"
   ]
  },
  {
   "cell_type": "code",
   "execution_count": null,
   "id": "800256a6-3b2d-4e94-aaab-6f700e47f8d8",
   "metadata": {},
   "outputs": [],
   "source": []
  },
  {
   "cell_type": "code",
   "execution_count": 40,
   "id": "4088c0af-a501-4f47-a10c-0dd4cf18f80b",
   "metadata": {},
   "outputs": [],
   "source": [
    "US_states = gpd.read_file(r'D:\\Work\\Box Sync\\Trends_all states\\Maps_2020\\cb_2020_us_state_5m.zip')\n",
    "US_states = US_states.to_crs('EPSG:9311')"
   ]
  },
  {
   "cell_type": "code",
   "execution_count": 41,
   "id": "4d6c1659-93df-41d0-bb98-6f2a7e2b10b8",
   "metadata": {},
   "outputs": [],
   "source": [
    "df_plot = US_places.merge(df, on = 'GEOID', how = 'outer',)"
   ]
  },
  {
   "cell_type": "code",
   "execution_count": 50,
   "id": "8a5b7c79-daf1-464f-bad4-a335e7df6cd2",
   "metadata": {},
   "outputs": [
    {
     "data": {
      "image/png": "[encoded data removed]",
      "text/plain": [
       "<Figure size 551.181x472.441 with 1 Axes>"
      ]
     },
     "metadata": {},
     "output_type": "display_data"
    }
   ],
   "source": [
    "# import the United States shape file\n",
    "# set state code as index, exclude states that we will never display\n",
    "gdf = df_plot.set_index('STATEFP') #.drop(index=['02', 'VI', 'MP', 'GU', 'AS'])\n",
    "colors = ['red', 'maroon', 'indianred', 'darkorange', 'limegreen','forestgreen', 'darkgreen']\n",
    "import matplotlib\n",
    "cmap_color = matplotlib.colors.ListedColormap(colors)\n",
    "plotted_col = 'trend2'\n",
    "\n",
    "mm = 1/(10* 2.54)  # milimeters in inches\n",
    "# plt.subplots(figsize=(165*mm, 200*mm))\n",
    "\n",
    "# create an axis with 2 insets − this defines the inset sizes\n",
    "fig, continental_ax = plt.subplots(figsize=(140*mm, 120*mm))\n",
    "alaska_ax = continental_ax.inset_axes([.01, .02, .24, .24])\n",
    "hawaii_ax = continental_ax.inset_axes([.22, .01, .25, .20])\n",
    "\n",
    "# Set bounds to fit desired areas in each plot\n",
    "continental_ax.set_xlim(-2257388.37, 2695859.75)\n",
    "continental_ax.set_ylim(-2246944.04, 918095.9)\n",
    "\n",
    "alaska_ax.set_xlim(-4383115.86156959, -1515327.22537998)\n",
    "alaska_ax.set_ylim(1458524.37417163, 3919523.37426209)\n",
    "\n",
    "hawaii_ax.set_xlim(-5812090.887043, -5452538.83170424)   # complete bounds \n",
    "hawaii_ax.set_ylim(-1064618.58269969, -431238.37803499)\n",
    "\n",
    "# Bounds for populated areas in Hawaii\n",
    "hawaii_ax.set_xlim(-5722090.887043, -5462538.83170424)\n",
    "hawaii_ax.set_ylim(-1050846.93031638, -455238.37803499)\n",
    "\n",
    "US_states.plot(ax=continental_ax, facecolor = 'none', edgecolor='gray', linewidth=0.1)\n",
    "gdf.plot(column=plotted_col, categorical =True,\n",
    "                                  ax=continental_ax,\n",
    "                                  cmap=cmap_color,\n",
    "                                  alpha = 0.8,\n",
    "                                  legend = True,\n",
    "                                  legend_kwds={'fontsize':5,\n",
    "                                              'markerscale': 0.3}\n",
    "        ) #, vmin=vmin, vmax=vmax)\n",
    "\n",
    "leg = continental_ax.get_legend()\n",
    "leg.set_bbox_to_anchor((0.2, -0.05, 0.6, 0.2))\n",
    "\n",
    "# from shapely.geometry.point import Point\n",
    "# points = gpd.GeoSeries([Point(-73.5, 40.5), Point(-75.5, 40.5)], crs=4326)  # Geographic WGS 84 - degrees\n",
    "# points = points.to_crs(9311)  # Projected WGS 84 - meters\n",
    "# from matplotlib_scalebar.scalebar import ScaleBar\n",
    "# distance_meters = points[0].distance(points[1])\n",
    "# scale_ax = continental_ax.inset_axes([.01, -.02, .2, .4])\n",
    "# scale_ax.add_artist(ScaleBar(distance_meters, dimension=\"si-length\", units=\"km\", location='lower left', font_properties ={'size':'x-large'}))\n",
    "# arrow_ax = continental_ax.inset_axes([.01, 0.0, .2, .4])\n",
    "# plot_north_arrow(arrow_ax, xT=0, yT=0, scale=.01)\n",
    "\n",
    "US_states.plot(facecolor = 'none', edgecolor='gray', linewidth=0.1, ax=alaska_ax)\n",
    "gdf.plot(column=plotted_col, cmap=cmap_color, ax=alaska_ax) #, vmin=vmin, vmax=vmax)\n",
    "US_states.plot(facecolor = 'none', edgecolor='gray', linewidth=0.1, ax=hawaii_ax)\n",
    "gdf.plot(column=plotted_col, cmap=cmap_color, ax=hawaii_ax) #, vmin=vmin, vmax=vmax)\n",
    "\n",
    "# remove ticks\n",
    "for ax in [continental_ax, alaska_ax, hawaii_ax]:\n",
    "    ax.set_yticks([])\n",
    "    ax.set_xticks([])\n",
    "    ax.axis('off')\n",
    "    plt.tight_layout()\n",
    "    plt.axis('off') \n",
    "        \n",
    "fig.patch.set_visible(False)\n",
    "    \n",
    "fig.savefig(r'D:\\Work\\Box Sync\\NC Figures\\cities_relabeled.png', dpi = 300, bbox_inches='tight')\n",
    "fig.savefig(r'D:\\Work\\Box Sync\\NC Figures\\cities_relabeled.pdf', dpi = 300, bbox_inches='tight')"
   ]
  },
  {
   "cell_type": "code",
   "execution_count": null,
   "id": "6d9f837b-da5e-4ca1-9368-ebbeb11bf412",
   "metadata": {},
   "outputs": [],
   "source": []
  },
  {
   "cell_type": "code",
   "execution_count": null,
   "id": "da3f060e-4f7b-41ca-bb68-810c8f6d8b3e",
   "metadata": {},
   "outputs": [],
   "source": [
    "# fig, alaska_ax = plt.subplots(figsize=(20, 30))\n",
    "# alaska_ax.set_xlim(-4337634.21863075, -1564427.75408087)\n",
    "# alaska_ax.set_ylim(1528047.16872635, 3883917.63673733)\n",
    "# US_states.plot(facecolor = 'none', edgecolor='gray', linewidth=0.4, ax=alaska_ax)\n",
    "# # gdf.plot(column=plotted_col, cmap=cmap_color, ax=alaska_ax) #, vmin=vmin, vmax=vmax)\n",
    "\n",
    "# gdf[(gdf['GEOID'].str.startswith('02')) & (gdf['trend2'] == '2 moderately depopulating')][['GEOID','NAME_2020', 'P_2000', 'P_2010', 'P_2020']].tail(50)"
   ]
  },
  {
   "cell_type": "code",
   "execution_count": null,
   "id": "fd2b1558-de2a-4d9b-a673-f2de7f68fe03",
   "metadata": {},
   "outputs": [],
   "source": [
    "df_plot['density_km2'] = df_plot['P_2020']*1000*1000/df_plot['ALAND']\n",
    "df_plot[df_plot['density_km2'] != 0].groupby('trend2')['density_km2'].describe().round(2)"
   ]
  },
  {
   "cell_type": "code",
   "execution_count": null,
   "id": "1f8cb6d7-e52e-4634-8ef9-55be418807f6",
   "metadata": {},
   "outputs": [],
   "source": [
    "forecasted_trend = pd.read_csv(r'D:\\Work\\Box Sync\\Trends_all states\\Output from Analysis\\forecasted_trend.csv', index_col =0, dtype={'GEOID': 'string'})"
   ]
  },
  {
   "cell_type": "code",
   "execution_count": null,
   "id": "43945295-de35-4adf-8e3b-39caf393b8ed",
   "metadata": {},
   "outputs": [],
   "source": [
    "forecasted_trend.isna().sum(), forecasted_trend.shape"
   ]
  },
  {
   "cell_type": "code",
   "execution_count": null,
   "id": "0f99984f-4e80-422c-86b0-aab93322f678",
   "metadata": {},
   "outputs": [],
   "source": [
    "df_plot.isna().sum()"
   ]
  },
  {
   "cell_type": "code",
   "execution_count": null,
   "id": "8bcc8ae0-9cb9-4164-b472-b77a210ae49a",
   "metadata": {},
   "outputs": [],
   "source": [
    "df_plot"
   ]
  },
  {
   "cell_type": "code",
   "execution_count": null,
   "id": "af180d8f-e65f-4a5b-a884-6413518507cb",
   "metadata": {},
   "outputs": [],
   "source": [
    "df_current_merged_future = df_plot.merge(forecasted_trend, on ='GEOID', how= 'outer', indicator= True)"
   ]
  },
  {
   "cell_type": "code",
   "execution_count": null,
   "id": "f7470171-30d7-4080-9d83-8570a2d784e5",
   "metadata": {},
   "outputs": [],
   "source": [
    "(df_current_merged_future.groupby(['trend2', 'future trend from SSP 4']).size()/df_current_merged_future.groupby(['trend2']).size()).round(3)"
   ]
  },
  {
   "cell_type": "code",
   "execution_count": null,
   "id": "335d8c8e-d00d-4ce5-b2a6-de79670566af",
   "metadata": {},
   "outputs": [],
   "source": [
    "# get state names\n",
    "state_names= US_states[['STATEFP', 'NAME']]\n",
    "# Percent cities in each trend group\n",
    "# pd.set_option('display.max_rows', None)\n",
    "df = df_current_merged_future.copy()\n",
    "column_name = 'trend2' #'future trend from SSP 1'\n",
    "\n",
    "percent_cities = (df.groupby(['STATEFP', column_name]).count()[['GEOID']] /\n",
    "                  df.groupby(['STATEFP']).count()[['GEOID']]).reset_index()\n",
    "\n",
    "table = pd.pivot_table(percent_cities, values='GEOID', index=['STATEFP'], # 'future trend from SSP 3'\n",
    "                    columns=[column_name], aggfunc=np.sum).reset_index()\n",
    "\n",
    "table = table.merge(state_names, on = 'STATEFP')\n",
    "\n",
    "table['sum'] = table[['1 severely depopulating', '2 moderately depopulating','3 slowly depopulating']].sum(axis =1)\n",
    "table = table.sort_values('sum', ascending = False) \n",
    "table.drop(columns = ['sum',], inplace = True)\n",
    "colors = ['red', 'maroon', 'indianred', 'darkorange', 'limegreen','forestgreen', 'darkgreen',]\n",
    "\n",
    "# table = table.sort_values('decreasing', ascending = False) \n",
    "# colors = ['maroon','yellowgreen','slategray']\n",
    "\n",
    "\n",
    "table.drop(columns = ['STATEFP',], inplace = True)\n",
    "\n",
    "cmap=matplotlib.colors.ListedColormap(colors)\n",
    "\n",
    "# plot a Stacked Bar Chart using matplotlib\n",
    "ax = table.plot(\n",
    "    x = 'NAME',\n",
    "    kind = 'barh',\n",
    "    stacked = True,\n",
    "    cmap = cmap,\n",
    "    title = '% Cities with current population trend',\n",
    "    mark_right = True,\n",
    "    figsize=(7, 12))\n",
    "# setting label sizes after creation\n",
    "ax.yaxis.label.set_size(15)\n",
    "ax.tick_params(axis='both', which='major', labelsize=12)\n",
    "ax.legend(bbox_to_anchor=(1.09, -0.04), loc='best', prop={'size': 10},  ncol=3, handleheight=2.4, labelspacing=0.05)\n",
    "plt.tight_layout()\n",
    "plt.show()\n",
    "fig = ax.get_figure()"
   ]
  },
  {
   "cell_type": "code",
   "execution_count": null,
   "id": "9a408e12-6c43-46a0-8d80-d4ced0c2d8f0",
   "metadata": {},
   "outputs": [],
   "source": [
    "df_current_merged_future.columns"
   ]
  },
  {
   "cell_type": "code",
   "execution_count": null,
   "id": "94bea0cf-e6f4-44f0-aab6-466d8be0cb40",
   "metadata": {},
   "outputs": [],
   "source": [
    "statecode = '31'\n",
    "df_state = df_current_merged_future[df_current_merged_future['STATEFP'] == statecode]\n",
    "print(df_state.shape)\n",
    "# Cartographic boundary for plotting\n",
    "US_counties_cb = gpd.read_file(r'D:\\Work\\Box Sync\\Trends_all states\\Maps_2020\\cb_2020_us_county_5m.zip') # tl_2020_us_county\n",
    "US_counties_cb = US_counties_cb.to_crs('EPSG:9311')"
   ]
  },
  {
   "cell_type": "code",
   "execution_count": null,
   "id": "13c4e72b-fee9-480f-be66-95eda808f4a0",
   "metadata": {},
   "outputs": [],
   "source": [
    "gdf.groupby('trend2').size()"
   ]
  },
  {
   "cell_type": "code",
   "execution_count": null,
   "id": "93341665-0685-4a24-aad0-6939afe7c0fe",
   "metadata": {},
   "outputs": [],
   "source": [
    "# set state code as index, exclude states that we will never display\n",
    "gdf = df_state.to_crs('epsg:9311') \n",
    "counties_IL = US_counties_cb[US_counties_cb['STATEFP'] == statecode].to_crs('epsg:9311') \n",
    "\n",
    "#.drop(index=['02', 'VI', 'MP', 'GU', 'AS'])\n",
    "colors = ['red', 'maroon', 'indianred', 'darkorange', 'limegreen','forestgreen', 'darkgreen',]\n",
    "\n",
    "column_name = ['trend2', \"label\"]\n",
    "# x_labels = {\"future trend from SSP 2\": \"(a)\", \n",
    "#             \"future trend from SSP 4\": '(b)'}\n",
    "\n",
    "\n",
    "fig, ax = plt.subplots(nrows=1, ncols=1, figsize=(35, 20))\n",
    "\n",
    "counties_IL.plot(ax=ax, facecolor = 'none', edgecolor='grey', linewidth=2)\n",
    "gdf.plot(column=col, \n",
    "             ax=ax,\n",
    "             cmap=matplotlib.colors.ListedColormap(colors), \n",
    "             legend = True,\n",
    "             legend_kwds={'loc': 'lower left', 'fontsize': 34,})\n",
    "    \n",
    "ax.set_title(\"Current population trend\", fontdict={'fontsize': 45, 'fontweight': 'medium'})\n",
    "\n",
    "ax.set_yticks([])\n",
    "ax.set_xticks([])\n",
    "ax.axis('off')\n",
    "plt.tight_layout()\n",
    "plt.axis('off') \n",
    "fig.savefig(r'D:\\Work\\Box Sync\\Depopulation in Nebraska\\Current_trend_31.png', dpi = 300, bbox_inches='tight')"
   ]
  },
  {
   "cell_type": "code",
   "execution_count": null,
   "id": "0d3398bf-1eb4-4ef5-8c0a-3775c171b4bc",
   "metadata": {},
   "outputs": [],
   "source": [
    "# set state code as index, exclude states that we will never display\n",
    "gdf = df_state.to_crs('epsg:9311') \n",
    "counties_IL = US_counties_cb[US_counties_cb['STATEFP'] == statecode].to_crs('epsg:9311') \n",
    "\n",
    "#.drop(index=['02', 'VI', 'MP', 'GU', 'AS'])\n",
    "colors = ['red', 'maroon', 'indianred', 'darkorange', 'limegreen','forestgreen', 'darkgreen',]\n",
    "\n",
    "column_name = ['trend2', \"label\"]\n",
    "# x_labels = {\"future trend from SSP 2\": \"(a)\", \n",
    "#             \"future trend from SSP 4\": '(b)'}\n",
    "\n",
    "\n",
    "fig, axes = plt.subplots(nrows=2, ncols=1, figsize=(35, 20))\n",
    "\n",
    "for ax, col in zip(axes.flatten(), column_name):\n",
    "    counties_IL.plot(ax=ax, facecolor = 'none', edgecolor='gray', linewidth=0.4)\n",
    "    gdf.plot(column=col, \n",
    "             ax=ax,\n",
    "             cmap=matplotlib.colors.ListedColormap(colors), \n",
    "             legend = True,\n",
    "             legend_kwds={'loc': 'lower left', 'fontsize': 20,})\n",
    "    \n",
    "    ax.set_title(col)\n",
    "\n",
    "\n",
    "    # remove ticks\n",
    "    for ax in axes.flatten():\n",
    "        ax.set_yticks([])\n",
    "        ax.set_xticks([])\n",
    "        ax.axis('off')\n",
    "        plt.tight_layout()\n",
    "        plt.axis('off') \n",
    "    "
   ]
  },
  {
   "cell_type": "code",
   "execution_count": null,
   "id": "9332e125-9197-4546-a095-ba8b9edd0c05",
   "metadata": {},
   "outputs": [],
   "source": [
    "print(gdf.shape, counties_IL.shape)\n",
    "gpd.sjoin(gdf, counties_IL).groupby(['GEOID_right']).size().sum()"
   ]
  },
  {
   "cell_type": "code",
   "execution_count": null,
   "id": "5398e121-6061-4a4a-8bc5-9be6ec858a65",
   "metadata": {},
   "outputs": [],
   "source": [
    "# var1 = 'sign_2000_2010'\n",
    "# var2 = 'sign_2010_2020'\n",
    "# var3 = 'sign_2000_2020'\n",
    "\n",
    "# df['trend'] = ''\n",
    "# df_length = len(df)\n",
    "# print(df_length)\n",
    "\n",
    "# for i in range(df_length):\n",
    "   \n",
    "#     '''consecutive population loss for two decades\n",
    "#     '''\n",
    "#     if (df.loc[i,var1] < 0) & (df.loc[i,var2] < 0) & (df.loc[i,var3] < 0):\n",
    "#         df.loc[i,'trend'] = 'decreasing'\n",
    "#     # consecutive population gain for two decades\n",
    "#     elif (df.loc[i,var1] > 0) & (df.loc[i,var2] > 0) & (df.loc[i,var3] > 0):\n",
    "#         df.loc[i,'trend'] = 'increasing'\n",
    "#     # consecutive population gain/loss for two decades  \n",
    "#     elif (df.loc[i,var1] > 0) & (df.loc[i,var2] < 0) & (df.loc[i,var3] > 0):\n",
    "#         df.loc[i,'trend'] = 'fluctuating'\n",
    "#     elif (df.loc[i,var1] < 0) & (df.loc[i,var2] > 0) & (df.loc[i,var3] < 0):\n",
    "#         df.loc[i,'trend'] = 'fluctuating'\n",
    "\n",
    "#     elif (df.loc[i,var1] < 0) & (df.loc[i,var2] == 0) & (df.loc[i,var3] < 0):\n",
    "#         df.loc[i,'trend'] = 'fluctuating'\n",
    "#     elif (df.loc[i,var1] < 0) & (df.loc[i,var2] > 0) & (df.loc[i,var3] == 0):\n",
    "#         df.loc[i,'trend'] = 'fluctuating'\n",
    "#     elif (df.loc[i,var1] > 0) & (df.loc[i,var2] < 0) & (df.loc[i,var3] == 0):\n",
    "#         df.loc[i,'trend'] = 'fluctuating'\n",
    "#     elif (df.loc[i,var1] > 0) & (df.loc[i,var2] == 0) & (df.loc[i,var3] > 0):\n",
    "#         df.loc[i,'trend'] = 'fluctuating'\n",
    "   \n",
    "    \n",
    "#     # gain-loss-loss\n",
    "#     elif (df.loc[i,var1] > 0) & (df.loc[i,var2] < 0) & (df.loc[i,var3] < 0):\n",
    "#         df.loc[i,'trend'] = 'decreasing'\n",
    "#     # loss-gain-gain  \n",
    "#     elif (df.loc[i,var1] < 0) & (df.loc[i,var2] > 0) & (df.loc[i,var3] > 0):\n",
    "#         df.loc[i,'trend'] = 'increasing'\n",
    "        \n",
    "#     elif (df.loc[i,var1] == 0) & (df.loc[i,var2] < 0) & (df.loc[i,var3] < 0):\n",
    "#         df.loc[i,'trend'] = 'decreasing'\n",
    "        \n",
    "#     elif (df.loc[i,var1] == 0) & (df.loc[i,var2] > 0) & (df.loc[i,var3] > 0):\n",
    "#         df.loc[i,'trend'] = 'increasing'\n",
    "#     else:\n",
    "#         df.loc[i,'trend'] = np.nan\n",
    "\n",
    "# df[df['trend'].isnull()]#.sum()"
   ]
  },
  {
   "cell_type": "code",
   "execution_count": null,
   "id": "a0baa72e-4655-4d09-aa53-de2234d56d15",
   "metadata": {},
   "outputs": [],
   "source": []
  },
  {
   "cell_type": "code",
   "execution_count": null,
   "id": "581cbeec-c4c7-45ab-8186-ff8ec5ded3b0",
   "metadata": {},
   "outputs": [],
   "source": []
  },
  {
   "cell_type": "code",
   "execution_count": null,
   "id": "a33eb83c-e1c8-4ff0-9027-6241b4bbe83e",
   "metadata": {},
   "outputs": [],
   "source": [
    "# plot_df = df#[(df['%_2000_to_2010'] < 20) & (df['%_2010_to_2020'] < 20)]\n",
    "# # plot_df=df\n",
    "# plot_df = plot_df.replace('', np.nan, regex=True)\n",
    "# fig1 = plt.figure(figsize=[20,10]) \n",
    "# axes1 = fig1.add_axes([-0.5,-0.5,0.5,0.5])\n",
    "# plt.rcParams['font.family'] = \"Times New Roman\"\n",
    "# axes1.set_xlabel(\"%_2000_to_2010\", fontsize=20, labelpad = 80)\n",
    "# axes1.set_ylabel(\"%_2010_to_2020\", fontsize=20, labelpad= 80)\n",
    "# axes1.tick_params(axis='both', which='major', labelsize=25)\n",
    "# axes1.tick_params(axis='both', which='minor', labelsize=25)\n",
    "# axes1.spines.left.set_position('zero')\n",
    "# axes1.spines.right.set_color('none')\n",
    "# axes1.spines.bottom.set_position('zero')\n",
    "# axes1.spines.top.set_color('none')\n",
    "# #axes1.spines[['top', 'right']].set_visible(False)\n",
    "# #axes1.spines[['left','bottom']].set_position('center')\n",
    "\n",
    "# colors = {'decreasing':'maroon', 'increasing':'yellowgreen', 'no trend':'slategray', 'no data': 'grey'}\n",
    "# axes1.scatter(plot_df['changeConsecDecade'], plot_df['%_2010_to_2020'], \n",
    "#               c = plot_df['sign_2000_2020'], \n",
    "#               alpha = .4, edgecolors=None,\n",
    "#               s = 8,\n",
    "#              )\n",
    "# # fig1.savefig(r'D:\\Work\\Box Sync\\Trends_all states\\Population classified.png', dpi = 300)\n",
    "# # fig1.savefig(r'D:\\Work\\Box Sync\\Trends_all states\\Population classified.pdf', dpi = 300)\n",
    "# plt.xlim(-5, 5)\n",
    "# plt.ylim(-5, 5)\n",
    "# plt.show()"
   ]
  },
  {
   "cell_type": "code",
   "execution_count": null,
   "id": "02954a82-faa1-4fed-b4c0-908835893c6c",
   "metadata": {},
   "outputs": [],
   "source": [
    "# plot_df = df[(df['total_changeRate'] < 15) & (df['mean_changeRate'] < 5)]\n",
    "# # plot_df=df\n",
    "# plot_df = plot_df.replace('', np.nan, regex=True)\n",
    "# fig1 = plt.figure(figsize=[20,8]) \n",
    "# axes1 = fig1.add_axes([-0.5,-0.5,0.5,0.5])\n",
    "# plt.rcParams['font.family'] = \"Times New Roman\"\n",
    "# axes1.set_xlabel(\"Mean change rate in population ($\\Delta P_m$)\", fontsize=20, labelpad = 100)\n",
    "# axes1.set_ylabel(\"Total change rate in population ($\\Delta P_t$)\", fontsize=20, labelpad= 200)\n",
    "# axes1.tick_params(axis='both', which='major', labelsize=25)\n",
    "# axes1.tick_params(axis='both', which='minor', labelsize=25)\n",
    "# axes1.spines.left.set_position('zero')\n",
    "# axes1.spines.right.set_color('none')\n",
    "# axes1.spines.bottom.set_position('zero')\n",
    "# axes1.spines.top.set_color('none')\n",
    "# #axes1.spines[['top', 'right']].set_visible(False)\n",
    "# #axes1.spines[['left','bottom']].set_position('center')\n",
    "\n",
    "# colors = {'decreasing':'maroon', 'increasing':'yellowgreen', 'no trend':'slategray', 'no data': 'grey'}\n",
    "# axes1.scatter(plot_df['mean_changeRate'], plot_df['changeConsecDecade'], \n",
    "#               # c = plot_df['trend'].map(colors), \n",
    "#               alpha = .4, edgecolors=None,\n",
    "#               # s = plot_df['density_km2_20']/15,\n",
    "#              )\n",
    "# # fig1.savefig(r'D:\\Work\\Box Sync\\Trends_all states\\Population classified.png', dpi = 300)\n",
    "# # fig1.savefig(r'D:\\Work\\Box Sync\\Trends_all states\\Population classified.pdf', dpi = 300)\n",
    "\n",
    "# plt.show()"
   ]
  },
  {
   "cell_type": "code",
   "execution_count": null,
   "id": "d34f790d-b712-432c-bfde-a9aa7bf9a73b",
   "metadata": {},
   "outputs": [],
   "source": [
    "# df_trend = df.copy()\n",
    "# #places_with_trend.replace(np.inf, np.nan, inplace=True)\n",
    "# mean_lower = df_trend['mean_changeRate'].min() - 1\n",
    "# mean_upper = df_trend['mean_changeRate'].max() + 1\n",
    "# total_lower = df_trend['total_changeRate'].min() - 1\n",
    "# total_upper = df_trend['total_changeRate'].max() + 1\n",
    "\n",
    "# df_trend['mean_Rate'] = pd.cut(df_trend['mean_changeRate'], include_lowest=True,\n",
    "#                                         bins=[mean_lower, -1.25, -0.25, -0.125, 0, 0.125, 0.25, 1.25, mean_upper],)\n",
    "# df_trend['total_Rate'] = pd.cut(df_trend['total_changeRate'], bins=[total_lower,  -1 , -0.5, -0.1, 0, 0.1, 0.5, 1, total_upper],)"
   ]
  },
  {
   "cell_type": "code",
   "execution_count": null,
   "id": "e4b9295e-f6f0-48d1-b240-6065f0e86706",
   "metadata": {},
   "outputs": [],
   "source": [
    "# df_X.isna().sum()"
   ]
  },
  {
   "cell_type": "code",
   "execution_count": null,
   "id": "d83352ee-d5a9-4009-83ee-8aab86352aa0",
   "metadata": {},
   "outputs": [],
   "source": [
    "# df_X = df_trend[['GEOID','NAME_2020','P_2000', 'P_2010','P_2020',\n",
    "#            '%_2000_to_2010', '%_2010_to_2020', 'total_changeRate',\n",
    "#            'mean_changeRate', 'mean_Rate', 'total_Rate', 'sign_2000_2010', 'sign_2010_2020', 'sign_2000_2020']].dropna().reset_index()\n",
    "# df_X.shape, df_trend.shape\n",
    "\n",
    "# # replacing zero values before logarithmic conversion\n",
    "# # df_X['density_km2_20'].replace(0,0.0001,inplace=True)\n",
    "# # df_X['logarithm_density_km2_20'] = np.log2(df_X['density_km2_20'])\n",
    "\n",
    "# df_X['total_changeRate'].where(df_X['total_changeRate']<= 9, 10, inplace=True)\n",
    "# df_X['mean_changeRate'].where(df_X['mean_changeRate']<= 9, 10, inplace=True)\n",
    "\n",
    "# features = ['sign_2000_2010', 'sign_2010_2020', 'sign_2000_2020','%_2000_to_2010', '%_2010_to_2020', 'total_changeRate',\n",
    "#            'mean_changeRate'] #['total_changeRate', 'mean_changeRate'] #  \n",
    "# X = df_X[features].copy() \n",
    "# X\n",
    "# from sklearn.preprocessing import StandardScaler, MinMaxScaler\n",
    "# # scaler = StandardScaler()\n",
    "# scaler = MinMaxScaler()\n",
    "# X = scaler.fit_transform(X)\n",
    "# X = pd.DataFrame(X, columns = features)\n",
    "# # X['logarithm_density_km2_20'] = X['logarithm_density_km2_20']/100"
   ]
  },
  {
   "cell_type": "code",
   "execution_count": null,
   "id": "f82daca9-3946-4117-8c0b-ae6dce03973e",
   "metadata": {},
   "outputs": [],
   "source": [
    "# pd.concat([df_X, X], axis =1).sort_values('density_km2_20').head(20)"
   ]
  },
  {
   "cell_type": "code",
   "execution_count": null,
   "id": "2e0dd5b5-b94d-4d33-93db-c25330869e62",
   "metadata": {},
   "outputs": [],
   "source": [
    "# from mpl_toolkits import mplot3d\n",
    "# %matplotlib inline\n",
    "# import numpy as np\n",
    "# import matplotlib.pyplot as plt\n",
    "# fig = plt.figure(figsize=(8,8))\n",
    "# ax = plt.axes(projection='3d')\n",
    "# x = df_X['total_changeRate']\n",
    "# y = df_X['mean_changeRate']\n",
    "# z = df_X['logarithm_density_km2_20']\n",
    "# ax = plt.axes(projection='3d')\n",
    "# ax.scatter(x, y, z, c=z, linewidth=0.5);"
   ]
  },
  {
   "cell_type": "code",
   "execution_count": null,
   "id": "328d824f-3009-45ab-8e24-fd088ec51035",
   "metadata": {},
   "outputs": [],
   "source": [
    "# from sklearn.manifold import TSNE\n",
    "# import seaborn as sns\n",
    "# tsne = TSNE(n_components=2, verbose=1, perplexity=30, n_iter=1000)\n",
    "# tsne_results = tsne.fit_transform(X[features])\n",
    "\n",
    "# X['tsne-2d-one'] = tsne_results[:,0]\n",
    "# X['tsne-2d-two'] = tsne_results[:,1]\n",
    "\n",
    "# plt.figure(figsize=(4,4))\n",
    "# sns.scatterplot(\n",
    "#     x=\"tsne-2d-one\", y=\"tsne-2d-two\",\n",
    "#     # hue=\"y\",\n",
    "#     palette=sns.color_palette(\"hls\", 10),\n",
    "#     data=X,\n",
    "#     legend=\"full\",\n",
    "#     alpha=0.3\n",
    "# )"
   ]
  },
  {
   "cell_type": "code",
   "execution_count": null,
   "id": "7397c755-28b4-4631-a671-4eb6ff0a90d8",
   "metadata": {},
   "outputs": [],
   "source": [
    "# projection = TSNE().fit_transform(X[features])\n",
    "# # plt.scatter(*projection.T)"
   ]
  },
  {
   "cell_type": "code",
   "execution_count": null,
   "id": "4b15a17f-702f-4224-8b21-de860a3bb591",
   "metadata": {},
   "outputs": [],
   "source": [
    "# import hdbscan # conda install -c conda-forge hdbscan\n",
    "\n",
    "# clusterer = hdbscan.HDBSCAN(min_cluster_size=30, min_samples=5, alpha=1.3).fit(X[features])\n",
    "# color_palette = sns.color_palette('Paired', 12)\n",
    "# cluster_colors = [color_palette[x] if x >= 0\n",
    "#                   else (0.5, 0.5, 0.5)\n",
    "#                   for x in clusterer.labels_]\n",
    "# cluster_member_colors = [sns.desaturate(x, p) for x, p in\n",
    "#                          zip(cluster_colors, clusterer.probabilities_)]\n",
    "# plt.scatter(*projection.T, s=5, linewidth=0, c=cluster_member_colors, alpha=0.25)\n",
    "# # clusterer.condensed_tree_.plot()\n",
    "# X['cluster'] = clusterer.labels_\n",
    "\n",
    "# df_trend.shape\n",
    "# df_clustered = pd.concat([df_X, X], axis =1)\n",
    "# # df_clustered.columns\n",
    "# # pd.crosstab([df_clustered.cluster, df_clustered.total_Rate], df_clustered.mean_Rate)\n",
    "# pd.crosstab([df_clustered.cluster, df_clustered.total_Rate], df_clustered.mean_Rate)"
   ]
  },
  {
   "cell_type": "code",
   "execution_count": null,
   "id": "e805bd87-9293-452c-976a-3342ef0f659a",
   "metadata": {},
   "outputs": [],
   "source": []
  }
 ],
 "metadata": {
  "kernelspec": {
   "display_name": "Python 3 (ipykernel)",
   "language": "python",
   "name": "python3"
  },
  "language_info": {
   "codemirror_mode": {
    "name": "ipython",
    "version": 3
   },
   "file_extension": ".py",
   "mimetype": "text/x-python",
   "name": "python",
   "nbconvert_exporter": "python",
   "pygments_lexer": "ipython3",
   "version": "3.12.0"
  }
 },
 "nbformat": 4,
 "nbformat_minor": 5
}
